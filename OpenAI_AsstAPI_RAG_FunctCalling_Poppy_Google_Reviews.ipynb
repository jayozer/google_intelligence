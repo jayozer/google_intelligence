{
  "cells": [
    {
      "cell_type": "markdown",
      "metadata": {
        "id": "RgDepNVhvzIr"
      },
      "source": [
        "# OpenAI Assistant API - Google Reviews inspection tool.\n",
        "### Agentic RAG with the Function Calling, Retrieval, and Code Interpreter Tools. The tool can call ourscraper function to extract and store reviews of any business and then answer questions about the reviews using the retrieval and code interpreter. \n"
      ]
    },
    {
      "cell_type": "markdown",
      "metadata": {
        "id": "RNU6b3ymwOWq"
      },
      "source": [
        "## Dependencies\n",
        "\n",
        "We'll start, as we usually do, with some dependiencies and our API key!"
      ]
    },
    {
      "cell_type": "code",
      "execution_count": 2,
      "metadata": {
        "id": "ePayyL6at6LS"
      },
      "outputs": [
        {
          "name": "stdout",
          "output_type": "stream",
          "text": [
            "\n",
            "\u001b[1m[\u001b[0m\u001b[34;49mnotice\u001b[0m\u001b[1;39;49m]\u001b[0m\u001b[39;49m A new release of pip is available: \u001b[0m\u001b[31;49m23.2.1\u001b[0m\u001b[39;49m -> \u001b[0m\u001b[32;49m24.0\u001b[0m\n",
            "\u001b[1m[\u001b[0m\u001b[34;49mnotice\u001b[0m\u001b[1;39;49m]\u001b[0m\u001b[39;49m To update, run: \u001b[0m\u001b[32;49mpip install --upgrade pip\u001b[0m\n"
          ]
        }
      ],
      "source": [
        "# -q stands for \"quiet\". When this option is used, pip will produce less console output. \n",
        "# U stands for \"upgrade\". When this option is used, pip will upgrade all specified packages to the newest available version.\n",
        "! pip install -qU openai outscraper pandas"
      ]
    },
    {
      "cell_type": "markdown",
      "metadata": {},
      "source": [
        "# OpenAI initialization"
      ]
    },
    {
      "cell_type": "code",
      "execution_count": 3,
      "metadata": {
        "colab": {
          "base_uri": "https://localhost:8080/"
        },
        "id": "unKr3HZdu-1V",
        "outputId": "610aeddb-5e56-4d75-e399-59054435c2ef"
      },
      "outputs": [],
      "source": [
        "from getpass import getpass\n",
        "import os\n",
        "\n",
        "os.environ[\"OPENAI_API_KEY\"] = getpass(\"OpenAI API Key:\")"
      ]
    },
    {
      "cell_type": "markdown",
      "metadata": {},
      "source": [
        "# Outscraper initialization\n",
        "### Outscraper will be used to extract google reviews. Google reviews API only returns newest 5 reviews. For this project - for code interpreter inspection side I need all reviews. Outscraper can also extract reviews from all businesses and not just only from my business. It is possible to get all reviews from Google Business API but requires approval. For these reasons I used Outscraper API and as usual their free tier works for my use case. "
      ]
    },
    {
      "cell_type": "code",
      "execution_count": 7,
      "metadata": {},
      "outputs": [],
      "source": [
        "from getpass import getpass\n",
        "import os\n",
        "from outscraper import ApiClient\n",
        "import json\n",
        "\n",
        "# Prompt the user to enter the API key\n",
        "os.environ[\"OUTSCRAPER_API_KEY\"] = getpass(\"Outscraper API Key:\")\n",
        "\n",
        "# Use the API key from the environment variable\n",
        "outscraper_client = ApiClient(api_key=os.environ[\"OUTSCRAPER_API_KEY\"])"
      ]
    },
    {
      "cell_type": "markdown",
      "metadata": {},
      "source": [
        "# Search for the bsuiness and return reviews. I am capping it at 50 reviews for this exercise. Ideally reviews_limit will be set to unlimited.\n",
        "### Search, return reviews using Outscraper API, store the file as json (the return structure is json anyway.) The file name is the search query appended with \"reviews\"\n",
        "### ideally the function in Assistants API can make this call and store the file for cross examination of 2 or more businesses. "
      ]
    },
    {
      "cell_type": "code",
      "execution_count": 42,
      "metadata": {},
      "outputs": [],
      "source": [
        "business_search = 'Poppy Kids pediatric dentistry Novato CA usa'"
      ]
    },
    {
      "cell_type": "code",
      "execution_count": 43,
      "metadata": {},
      "outputs": [],
      "source": [
        "reviews = outscraper_client.google_maps_reviews(business_search, reviews_limit=50, limit=1, language='en')"
      ]
    },
    {
      "cell_type": "code",
      "execution_count": 44,
      "metadata": {},
      "outputs": [],
      "source": [
        "\n",
        "# Remove any non-alphanumeric characters (except spaces), and convert to lowercase\n",
        "normalized_string = ''.join(char.lower() for char in business_search if char.isalnum() or char.isspace())\n",
        "\n",
        "# Replace spaces with underscores\n",
        "file_name = normalized_string.replace(' ', '_') + '_reviews'\n",
        "\n",
        "# Print or use the file name\n",
        "#print(file_name)\n"
      ]
    },
    {
      "cell_type": "code",
      "execution_count": 45,
      "metadata": {},
      "outputs": [],
      "source": [
        "# Define the full path where the JSON file will be saved.\n",
        "file_path = \"/Users/acrobat/Documents/GitHub/AI-Engineering-Cohort-2/Week 2/Day 2/data_reviews/\" \n"
      ]
    },
    {
      "cell_type": "code",
      "execution_count": 46,
      "metadata": {},
      "outputs": [],
      "source": [
        "# Write the JSON data to a file\n",
        "with open(file_path + file_name + '.json', 'w') as f:\n",
        "    json.dump(reviews, f)"
      ]
    },
    {
      "cell_type": "code",
      "execution_count": 14,
      "metadata": {},
      "outputs": [],
      "source": [
        "# Chatbot Instructions for Poppy Google Reviews Bot.\n",
        "name = \"Poppy\" # @param {type: \"string\"}\n",
        "instructions = \"\"\"\n",
        "Purpose: Poppy is designed to assist business owners and customers by extracting and providing detailed insights from Google reviews. Poppy helps users understand customer sentiments, identify common themes, and respond to frequently asked questions derived from the reviews.\n",
        "\n",
        "Capabilities:\n",
        "\n",
        "Review Summarization: Poppy can quickly summarize the key points of reviews, highlighting the most mentioned positives and negatives.\n",
        "Trend Identification: Poppy identifies trends in customer feedback over different periods, helping users see changes in customer satisfaction.\n",
        "Question Extraction: Poppy extracts and answers common questions that customers have about a business, based on the reviews.\n",
        "Sentiment Analysis: Poppy analyzes the sentiment of reviews to gauge overall customer satisfaction and alert users to any significant shifts in public perception.\n",
        "Personality: Poppy is friendly, helpful, and always eager to provide insights in a straightforward and accessible manner. Poppy is designed to be approachable, making complex data easy to understand for everyone.\n",
        "\n",
        "Interaction Style:\n",
        "\n",
        "Poppy actively listens to user queries and responds with information extracted from Google reviews.\n",
        "Poppy uses clear, concise language to ensure that all users can easily understand the insights derived from the reviews.\n",
        "Poppy is proactive in offering suggestions on how to improve customer satisfaction based on review trends and common feedback.\n",
        "Example Interaction:\n",
        "\n",
        "User: \"Poppy, what do customers like most about our service last month?\"\n",
        "Poppy: \"From last month’s reviews, customers really appreciated the quick service and friendly staff. There was a notable positive sentiment about the cleanliness of the premises too.\"\n",
        "Limitations:\n",
        "\n",
        "Poppy relies on the available data from Google reviews and does not generate opinions or advice beyond the extracted information.\n",
        "Poppy can only provide information as accurately as the reviews allow; it does not interpret ambiguous feedback without clear context.\n",
        "\"\"\"  # @param {type: \"string\"}\n",
        "model = \"gpt-4-turbo\" # @param [\"gpt-3.5-turbo\", \"gpt-4-turbo-preview\", \"gpt-4\"]"
      ]
    },
    {
      "cell_type": "markdown",
      "metadata": {},
      "source": [
        "### OpenAI Client"
      ]
    },
    {
      "cell_type": "code",
      "execution_count": 16,
      "metadata": {},
      "outputs": [],
      "source": [
        "from openai import OpenAI\n",
        "\n",
        "client = OpenAI()"
      ]
    },
    {
      "cell_type": "code",
      "execution_count": 23,
      "metadata": {},
      "outputs": [
        {
          "name": "stdout",
          "output_type": "stream",
          "text": [
            "/Users/acrobat/Documents/GitHub/AI-Engineering-Cohort-2/Week 2/Day 2/data_reviews/poppy_kids_pediatric_dentistry_novato_ca_usa_reviews\n"
          ]
        }
      ],
      "source": [
        "print(file_path + file_name)"
      ]
    },
    {
      "cell_type": "code",
      "execution_count": 29,
      "metadata": {},
      "outputs": [],
      "source": [
        "# Need to update this part for multiple documents - for now just pulling the single file. I have to move on from this madness. \n",
        "file_reference = client.files.create(\n",
        "  file=open('/Users/acrobat/Documents/GitHub/AI-Engineering-Cohort-2/Week 2/Day 2/data_reviews/poppy_kids_pediatric_dentistry_novato_ca_usa_reviews.json', \"rb\"),\n",
        "  purpose='assistants'\n",
        ")"
      ]
    },
    {
      "cell_type": "code",
      "execution_count": 30,
      "metadata": {},
      "outputs": [],
      "source": [
        "# for now one file for retieval, with retrieval and code intepreter tools.\n",
        "assistant = client.beta.assistants.create(\n",
        "    \n",
        "    name=name + \" + Google Reviews New\",\n",
        "    instructions=instructions,\n",
        "    tools=[\n",
        "        {\"type\": \"code_interpreter\"},\n",
        "        {\"type\": \"retrieval\"},\n",
        "       # {\"type\": \"function\", \"function\" : ddg_function}\n",
        "    ],\n",
        "    model=model,\n",
        "    file_ids=[file_reference.id],\n",
        ")"
      ]
    },
    {
      "cell_type": "code",
      "execution_count": 33,
      "metadata": {},
      "outputs": [],
      "source": [
        "import json\n",
        "import time\n",
        "\n",
        "def wait_for_run_completion(thread_id, run_id):\n",
        "    \"\"\"\n",
        "    Waits for the completion of a run identified by the given thread ID and run ID.\n",
        "\n",
        "    Args:\n",
        "        thread_id (str): The ID of the thread containing the run.\n",
        "        run_id (str): The ID of the run to wait for.\n",
        "\n",
        "    Returns:\n",
        "        dict: The details of the completed run.\n",
        "\n",
        "    Raises:\n",
        "        None\n",
        "\n",
        "    \"\"\"\n",
        "    while True:\n",
        "        time.sleep(1)\n",
        "        run = client.beta.threads.runs.retrieve(thread_id=thread_id, run_id=run_id)\n",
        "        print(f\"Current run status: {run.status}\")\n",
        "        if run.status in ['completed', 'failed', 'requires_action']:\n",
        "            return run\n",
        "\n",
        "def submit_tool_outputs(thread_id, run_id, tools_to_call):\n",
        "    \"\"\"\n",
        "    Submits the tool outputs to the specified thread and run.\n",
        "\n",
        "    Args:\n",
        "        thread_id (str): The ID of the thread to submit the tool outputs to.\n",
        "        run_id (str): The ID of the run to submit the tool outputs to.\n",
        "        tools_to_call (list): A list of tools to call and retrieve outputs from.\n",
        "\n",
        "    Returns:\n",
        "        dict: A dictionary containing the submitted tool outputs.\n",
        "\n",
        "    \"\"\"\n",
        "    tool_output_array = []\n",
        "    for tool in tools_to_call:\n",
        "        output = None\n",
        "        tool_call_id = tool.id\n",
        "        function_name = tool.function.name\n",
        "        function_args = tool.function.arguments\n",
        "\n",
        "        if function_name == \"duckduckgo_search\":\n",
        "            print(\"Consulting Duck Duck Go...\")\n",
        "            output = duckduckgo_search(query=json.loads(function_args)[\"query\"])\n",
        "\n",
        "        if output:\n",
        "            tool_output_array.append({\"tool_call_id\": tool_call_id, \"output\": output})\n",
        "\n",
        "    print(tool_output_array)\n",
        "\n",
        "    return client.beta.threads.runs.submit_tool_outputs(\n",
        "        thread_id=thread_id,\n",
        "        run_id=run_id,\n",
        "        tool_outputs=tool_output_array\n",
        "    )\n",
        "\n",
        "def print_messages_from_thread(thread_id):\n",
        "    \"\"\"\n",
        "    Prints the messages from a given thread.\n",
        "\n",
        "    Args:\n",
        "        thread_id (str): The ID of the thread.\n",
        "\n",
        "    Returns:\n",
        "        None\n",
        "    \"\"\"\n",
        "    messages = client.beta.threads.messages.list(thread_id=thread_id)\n",
        "    for msg in messages:\n",
        "        print(f\"{msg.role}: {msg.content[0].text.value}\")\n",
        "\n",
        "def use_assistant(query, assistant_id, thread_id=None):\n",
        "    \"\"\"\n",
        "    Uses the OpenAI Assistant to interact with the AI model.\n",
        "\n",
        "    Args:\n",
        "        query (str): The user's query or message.\n",
        "        assistant_id (str): The ID of the OpenAI Assistant.\n",
        "        thread_id (str, optional): The ID of the thread to use. If not provided, a new thread will be created.\n",
        "\n",
        "    Returns:\n",
        "        str: The ID of the thread used for the conversation.\n",
        "    \"\"\"\n",
        "    thread = client.beta.threads.create()\n",
        "\n",
        "    message = client.beta.threads.messages.create(\n",
        "        thread_id=thread.id,\n",
        "        role=\"user\",\n",
        "        content=query,\n",
        "    )\n",
        "\n",
        "    print(\"Creating Assistant \")\n",
        "\n",
        "    run = client.beta.threads.runs.create(\n",
        "        thread_id=thread.id,\n",
        "        assistant_id=assistant_id,\n",
        "    )\n",
        "\n",
        "    print(\"Querying OpenAI Assistant Thread.\")\n",
        "\n",
        "    run = wait_for_run_completion(thread.id, run.id)\n",
        "\n",
        "    if run.status == 'requires_action':\n",
        "        run = submit_tool_outputs(thread.id, run.id, run.required_action.submit_tool_outputs.tool_calls)\n",
        "        run = wait_for_run_completion(thread.id, run.id)\n",
        "\n",
        "    print_messages_from_thread(thread.id)\n",
        "\n",
        "    return thread.id\n"
      ]
    },
    {
      "cell_type": "code",
      "execution_count": 34,
      "metadata": {},
      "outputs": [
        {
          "name": "stdout",
          "output_type": "stream",
          "text": [
            "Creating Assistant \n",
            "Querying OpenAI Assistant Thread.\n",
            "Current run status: in_progress\n",
            "Current run status: in_progress\n",
            "Current run status: completed\n",
            "assistant: Poppy Kids Pediatric Dentistry has a total of 90 reviews.\n",
            "user: How many reviews are there for Poppy Kids Pediatric Dentistry?\n"
          ]
        },
        {
          "data": {
            "text/plain": [
              "'thread_sM5oOSv0ScKT3OAjG7taq4YA'"
            ]
          },
          "execution_count": 34,
          "metadata": {},
          "output_type": "execute_result"
        }
      ],
      "source": [
        "use_assistant(\"How many reviews are there for Poppy Kids Pediatric Dentistry?\", assistant.id)"
      ]
    },
    {
      "cell_type": "code",
      "execution_count": 35,
      "metadata": {},
      "outputs": [
        {
          "name": "stdout",
          "output_type": "stream",
          "text": [
            "Creating Assistant \n",
            "Querying OpenAI Assistant Thread.\n",
            "Current run status: in_progress\n",
            "Current run status: in_progress\n",
            "Current run status: in_progress\n",
            "Current run status: in_progress\n",
            "Current run status: in_progress\n",
            "Current run status: in_progress\n",
            "Current run status: in_progress\n",
            "Current run status: completed\n",
            "assistant: The average review score for Poppy Kids Pediatric Dentistry is 5/5, based on a total of 90 reviews.\n",
            "user: What is the average review score?\n"
          ]
        },
        {
          "data": {
            "text/plain": [
              "'thread_zsNunuvI3fag2Z6ZooVaTSwW'"
            ]
          },
          "execution_count": 35,
          "metadata": {},
          "output_type": "execute_result"
        }
      ],
      "source": [
        "# This was interesting. Since the overall review score exists as a line item in the JSON file, LLM extract it and use it as a response to the question.\n",
        "# Although there are only 50 reviews extracted, LLM used the ready / available information instead of calculating the average from each review score.\n",
        "use_assistant(\"What is the average review score?\", assistant.id)"
      ]
    },
    {
      "cell_type": "code",
      "execution_count": 37,
      "metadata": {},
      "outputs": [
        {
          "name": "stdout",
          "output_type": "stream",
          "text": [
            "Creating Assistant \n",
            "Querying OpenAI Assistant Thread.\n",
            "Current run status: in_progress\n",
            "Current run status: in_progress\n",
            "Current run status: in_progress\n",
            "Current run status: in_progress\n",
            "Current run status: in_progress\n",
            "Current run status: completed\n",
            "assistant: Yes, there are several posts about events hosted by Poppy Kids Pediatric Dentistry. Here are some examples:\n",
            "\n",
            "1. **Poppy Planting Party** - A family-friendly gardening event where children can plant poppies and decorate pots to take home.\n",
            "2. **Mom's Morning Out with Poppy Kids & The Mom Walk Collective** - A morning event held on January 27th, focused on providing a delightful experience for moms and children.\n",
            "3. **Valentine's Day Card Making Event** - Held on February 11th, this event invites children to craft love-filled Valentine's cards with various decorative materials.\n",
            "4. **Holiday Cookie Decorating** - An event on December 2nd featuring cookie decorating for festive fun.\n",
            "\n",
            "These events focus on engaging children and families in creative and enjoyable activities.\n",
            "user: Are there any posts about events?\n"
          ]
        },
        {
          "data": {
            "text/plain": [
              "'thread_lxm5QH5FdaGFB23rXW6vW30U'"
            ]
          },
          "execution_count": 37,
          "metadata": {},
          "output_type": "execute_result"
        }
      ],
      "source": [
        "# The events word is never used in the exported json file. Still LLM correctlt retrieved the information.\n",
        "use_assistant(\"Are there any posts about events?\", assistant.id)"
      ]
    },
    {
      "cell_type": "code",
      "execution_count": 38,
      "metadata": {},
      "outputs": [
        {
          "name": "stdout",
          "output_type": "stream",
          "text": [
            "Creating Assistant \n",
            "Querying OpenAI Assistant Thread.\n",
            "Current run status: in_progress\n",
            "Current run status: in_progress\n",
            "Current run status: in_progress\n",
            "Current run status: in_progress\n",
            "Current run status: in_progress\n",
            "Current run status: in_progress\n",
            "Current run status: in_progress\n",
            "Current run status: in_progress\n",
            "Current run status: in_progress\n",
            "Current run status: in_progress\n",
            "Current run status: in_progress\n",
            "Current run status: in_progress\n",
            "Current run status: in_progress\n",
            "Current run status: in_progress\n",
            "Current run status: in_progress\n",
            "Current run status: in_progress\n",
            "Current run status: in_progress\n",
            "Current run status: in_progress\n",
            "Current run status: in_progress\n",
            "Current run status: in_progress\n",
            "Current run status: in_progress\n",
            "Current run status: in_progress\n",
            "Current run status: in_progress\n",
            "Current run status: in_progress\n",
            "Current run status: in_progress\n",
            "Current run status: in_progress\n",
            "Current run status: in_progress\n",
            "Current run status: completed\n",
            "assistant: Here is the count of reviews by month and year based on the data:\n",
            "\n",
            "- **2024-02**: 6 reviews\n",
            "- **2024-04**: 5 reviews\n",
            "- **2023-07**: 5 reviews\n",
            "- **2023-09**: 5 reviews\n",
            "- **2024-01**: 4 reviews\n",
            "- **2023-12**: 3 reviews\n",
            "- **2023-06**: 3 reviews\n",
            "- **2024-03**: 3 reviews\n",
            "- **2023-01**: 3 reviews\n",
            "- **2023-11**: 2 reviews\n",
            "- **2023-05**: 2 reviews\n",
            "- **2023-08**: 2 reviews\n",
            "- **2022-11**: 2 reviews\n",
            "- **2022-12**: 2 reviews\n",
            "- **2023-03**: 1 review\n",
            "- **2023-10**: 1 review\n",
            "- **2023-02**: 1 review\n",
            "\n",
            "Please let me know if you need further details or any other specific analysis!\n",
            "assistant: Upon rechecking the review data structure, I found the correct key names that include 'review_timestamp' for the timestamp values. I will now use this to parse dates correctly and count the number of reviews per month and year. Let's proceed with this new data.\n",
            "assistant: It appears there is a misunderstanding in accessing the correct field for timestamps. I will carefully re-examine the structure of the data to identify the correct field for extracting the review timestamps before proceeding with the count.\n",
            "assistant: It seems that there was an issue with the extraction or conversion of timestamps from the reviews in the data. The date extraction didn't return any valid dates to count. I will recheck the extraction code to ensure it correctly parses the timestamps from reviews. Let's attempt this again.\n",
            "assistant: The document contains a list of reviews. I will extract the data, parse the dates, and count the number of reviews for each month and year to provide a detailed summary.\n",
            "user: Count the number of reviews by month and year.\n"
          ]
        },
        {
          "data": {
            "text/plain": [
              "'thread_XBnI0fiOsGYYz84N7vn3QBmI'"
            ]
          },
          "execution_count": 38,
          "metadata": {},
          "output_type": "execute_result"
        }
      ],
      "source": [
        "# The review_timestamp is in Unix timestamp or Epoch time. Code interpreter tool correctly parsed the timestamp and converted it to a human-readable format.\n",
        "use_assistant(\"Count the number of reviews by month and year.\", assistant.id)"
      ]
    },
    {
      "cell_type": "code",
      "execution_count": 39,
      "metadata": {},
      "outputs": [
        {
          "name": "stdout",
          "output_type": "stream",
          "text": [
            "Creating Assistant \n",
            "Querying OpenAI Assistant Thread.\n",
            "Current run status: in_progress\n",
            "Current run status: in_progress\n",
            "Current run status: in_progress\n",
            "Current run status: in_progress\n",
            "Current run status: completed\n",
            "assistant: The business, Poppy Kids Pediatric Dentistry, is located at **450 Ignacio Blvd, Novato, CA 94949**.\n",
            "\n",
            "Unfortunately, the hours of operation are not provided in the document. For this information, it may be beneficial to visit their official site or directly contact them via the provided phone number.\n",
            "user: What is the address of the business? and when are they open?\n"
          ]
        },
        {
          "data": {
            "text/plain": [
              "'thread_FYHFzGsymnRuObjKvFqKrPGZ'"
            ]
          },
          "execution_count": 39,
          "metadata": {},
          "output_type": "execute_result"
        }
      ],
      "source": [
        "# two questions, one query result exists and the other does not.\n",
        "use_assistant(\"What is the address of the business? and when are they open?\", assistant.id)"
      ]
    },
    {
      "cell_type": "markdown",
      "metadata": {},
      "source": [
        "# Multiple review files"
      ]
    },
    {
      "cell_type": "markdown",
      "metadata": {},
      "source": [
        "# Lets try it with two data files. Reviews from two pediatric dentistries. And see if code interpreter is able to answer questions from both first and then compare the business to each other.\n",
        "### Use the same assitant but add another file to the mix."
      ]
    },
    {
      "cell_type": "code",
      "execution_count": 41,
      "metadata": {
        "id": "5xVdjH6EJQrr"
      },
      "outputs": [],
      "source": [
        "# a new business search, create a new file_name,pull and write reviews to a JSON data to a file. \n",
        "business_search = 'Novato Childrens Dentistry Novato CA usa'\n",
        "reviews = outscraper_client.google_maps_reviews(business_search, reviews_limit=50, limit=1, language='en')\n",
        "\n",
        "# Remove any non-alphanumeric characters (except spaces), and convert to lowercase\n",
        "normalized_string = ''.join(char.lower() for char in business_search if char.isalnum() or char.isspace())\n",
        "\n",
        "# Replace spaces with underscores\n",
        "file_name = normalized_string.replace(' ', '_') + '_reviews'\n",
        "\n",
        "with open(file_path + file_name + '.json', 'w') as f:\n",
        "    json.dump(reviews, f)\n",
        "\n",
        "# Attention:\n",
        "# Although I asked for Novato Childrens Dentistry, the Outscraper returned Novato pediatric dentistry. So Novato pediatric dentistry super seeds the novato children's.\n",
        "# This also impacted the file name since I am using the business search string to create the file name. These are the limitations of the current implementation and must be addressed."
      ]
    },
    {
      "cell_type": "markdown",
      "metadata": {},
      "source": [
        "# I want to update the existing assistant instead of creating a new assistant"
      ]
    },
    {
      "cell_type": "code",
      "execution_count": 48,
      "metadata": {},
      "outputs": [
        {
          "name": "stdout",
          "output_type": "stream",
          "text": [
            "asst_c7xCiqsJ4pXFYbBtFyak6woh\n",
            "['file-p5ECEuYUaUb1hYfChUTuqOBL']\n"
          ]
        }
      ],
      "source": [
        "print(assistant.id) # print assistant id\n",
        "existing_file_ids = [file_reference.id]\n",
        "print(existing_file_ids)"
      ]
    },
    {
      "cell_type": "code",
      "execution_count": 50,
      "metadata": {},
      "outputs": [],
      "source": [
        "# Need to update this part for multiple documents - for now just pulling the single file. I have to move on from this madness. \n",
        "new_file_reference = client.files.create(\n",
        "  file=open('/Users/acrobat/Documents/GitHub/AI-Engineering-Cohort-2/Week 2/Day 2/data_reviews/novato_childrens_dentistry_novato_ca_usa_reviews.json', \"rb\"),\n",
        "  purpose='assistants'\n",
        ")"
      ]
    },
    {
      "cell_type": "code",
      "execution_count": 51,
      "metadata": {},
      "outputs": [],
      "source": [
        "# Append the new file ID\n",
        "existing_file_ids.append(new_file_reference.id)\n",
        "\n",
        "# Update the assistant\n",
        "updated_assistant = client.beta.assistants.update(\n",
        "    assistant_id=assistant.id,\n",
        "    file_ids=existing_file_ids  # Updated list of file IDs\n",
        ")\n",
        "\n",
        "# Oley works, I can see it in the Assistants playground. "
      ]
    },
    {
      "cell_type": "code",
      "execution_count": 52,
      "metadata": {},
      "outputs": [
        {
          "name": "stdout",
          "output_type": "stream",
          "text": [
            "Creating Assistant \n",
            "Querying OpenAI Assistant Thread.\n",
            "Current run status: in_progress\n",
            "Current run status: in_progress\n",
            "Current run status: in_progress\n",
            "Current run status: in_progress\n",
            "Current run status: in_progress\n",
            "Current run status: in_progress\n",
            "Current run status: in_progress\n",
            "Current run status: completed\n",
            "assistant: There are two different businesses mentioned in the files:\n",
            "\n",
            "1. Poppy Kids Pediatric Dentistry【9†source】\n",
            "2. Novato Children's Dentistry【13†source】\n",
            "user: How many different businesses are there in the files and what are their names?\n"
          ]
        },
        {
          "data": {
            "text/plain": [
              "'thread_LpR7ZwNhZFcfQPat8eKrL34y'"
            ]
          },
          "execution_count": 52,
          "metadata": {},
          "output_type": "execute_result"
        }
      ],
      "source": [
        "# Lets ask question. First is to see if LLM can differentiate and retrieve different businesses from two files. \n",
        "use_assistant(\"How many different businesses are there in the files and what are their names?\", assistant.id)"
      ]
    },
    {
      "cell_type": "code",
      "execution_count": 53,
      "metadata": {},
      "outputs": [
        {
          "name": "stdout",
          "output_type": "stream",
          "text": [
            "Creating Assistant \n",
            "Querying OpenAI Assistant Thread.\n",
            "Current run status: in_progress\n",
            "Current run status: in_progress\n",
            "Current run status: in_progress\n",
            "Current run status: in_progress\n",
            "Current run status: in_progress\n",
            "Current run status: in_progress\n",
            "Current run status: in_progress\n",
            "Current run status: in_progress\n",
            "Current run status: completed\n",
            "assistant: Novato Children's Dentistry in Novato, CA has **200 reviews** with an **overall review score of 4.9 stars** out of 5.\n",
            "\n",
            "To recap, here's the information for both businesses:\n",
            "1. Poppy Kids Pediatric Dentistry: 90 reviews, 5.0 stars.\n",
            "2. Novato Children's Dentistry: 200 reviews, 4.9 stars.\n",
            "assistant: Poppy Kids Pediatric Dentistry in Novato, CA has **90 reviews** with an **overall review score of 5.0 stars** out of 5.\n",
            "\n",
            "Now, I will check the information for the other business.\n",
            "user: How many reviews are there for each business and what are the overall review score for business?\n"
          ]
        },
        {
          "data": {
            "text/plain": [
              "'thread_VmUxrHXJWtodBNApemnxP9Da'"
            ]
          },
          "execution_count": 53,
          "metadata": {},
          "output_type": "execute_result"
        }
      ],
      "source": [
        "use_assistant(\"How many reviews are there for each business and what are the overall review score for business?\", assistant.id)"
      ]
    },
    {
      "cell_type": "markdown",
      "metadata": {},
      "source": [
        "# question to AI Makerspace? Why is the returned information in a weird order? How am I supposed to read above information. "
      ]
    },
    {
      "cell_type": "markdown",
      "metadata": {},
      "source": [
        "Now turn the google reviews outscraper function into an assistants api function callling. This Assitants API function will Search a new business address, save the returned results into a variable, create a new file reference from that variable to be added to existing assistants file reference.\n",
        "This must be triggered within the assistant with a prompt. Get me the business reviews of \"business_search\".\n"
      ]
    },
    {
      "cell_type": "code",
      "execution_count": 59,
      "metadata": {},
      "outputs": [
        {
          "name": "stdout",
          "output_type": "stream",
          "text": [
            "['file-KJZBaIIwbZ5FJNQANPQDBXBL', 'file-p5ECEuYUaUb1hYfChUTuqOBL']\n"
          ]
        }
      ],
      "source": [
        "# First lets see the list of files associated with the assistant.\n",
        "\n",
        "# Get the assistant ID\n",
        "assistant_id = assistant.id\n",
        "\n",
        "# Get a list of all files associated with the assistant\n",
        "files = client.beta.assistants.files.list(assistant_id=assistant_id)\n",
        "\n",
        "# Get the IDs of all files\n",
        "file_ids = [file.id for file in files]\n",
        "\n",
        "print(file_ids)"
      ]
    },
    {
      "cell_type": "code",
      "execution_count": 60,
      "metadata": {},
      "outputs": [],
      "source": [
        "# wrap the code into a function that takes the business search string and the assistant ID as parameters, fetches the reviews, saves them to a JSON file, and updates the assistant with the new file.\n",
        "\n",
        "def fetch_reviews_and_update_assistant(business_search, assistant_id):\n",
        "    # Fetch the reviews\n",
        "    reviews = outscraper_client.google_maps_reviews(business_search, reviews_limit=50, limit=1, language='en')\n",
        "\n",
        "    # Normalize the business search string to create the file name\n",
        "    normalized_string = ''.join(char.lower() for char in business_search if char.isalnum() or char.isspace())\n",
        "    file_name = normalized_string.replace(' ', '_') + '_reviews.json'\n",
        "\n",
        "    # Save the reviews to a JSON file\n",
        "    with open(file_name, 'w') as f:\n",
        "        json.dump(reviews, f)\n",
        "\n",
        "    # Create a new file reference\n",
        "    new_file_reference = client.files.create(\n",
        "        file=open(file_name, \"rb\"),\n",
        "        purpose='assistants'\n",
        "    )\n",
        "\n",
        "    # Get the existing file IDs\n",
        "    existing_file_ids = [file.id for file in client.beta.assistants.files.list(assistant_id=assistant_id)]\n",
        "\n",
        "    # Append the new file ID\n",
        "    existing_file_ids.append(new_file_reference.id)\n",
        "\n",
        "    # Update the assistant\n",
        "    updated_assistant = client.beta.assistants.update(\n",
        "        assistant_id=assistant_id,\n",
        "        file_ids=existing_file_ids  # Updated list of file IDs\n",
        "    )\n",
        "\n",
        "    return updated_assistant"
      ]
    },
    {
      "cell_type": "code",
      "execution_count": 61,
      "metadata": {},
      "outputs": [],
      "source": [
        "updated_assistant = fetch_reviews_and_update_assistant('Mt Tam Pediatric Dentistry Corte Madera CA usa', assistant.id)"
      ]
    },
    {
      "cell_type": "code",
      "execution_count": 62,
      "metadata": {},
      "outputs": [
        {
          "name": "stdout",
          "output_type": "stream",
          "text": [
            "['file-PpsEB5JBEkzZ3JaJ0rLG1PwH', 'file-KJZBaIIwbZ5FJNQANPQDBXBL', 'file-p5ECEuYUaUb1hYfChUTuqOBL']\n"
          ]
        }
      ],
      "source": [
        "# Worked!!! lets see the list of files now. We had 2 and we expect 3\n",
        "# Get the assistant ID\n",
        "assistant_id = assistant.id\n",
        "\n",
        "# Get a list of all files associated with the assistant\n",
        "files = client.beta.assistants.files.list(assistant_id=assistant_id)\n",
        "\n",
        "# Get the IDs of all files\n",
        "file_ids = [file.id for file in files]\n",
        "\n",
        "print(file_ids) # Success!!! "
      ]
    },
    {
      "cell_type": "markdown",
      "metadata": {},
      "source": [
        "### Now I will test contents in Assistants playground to see if it answers questions using the new document - All Works"
      ]
    },
    {
      "cell_type": "code",
      "execution_count": 63,
      "metadata": {},
      "outputs": [
        {
          "name": "stdout",
          "output_type": "stream",
          "text": [
            "Creating Assistant \n",
            "Querying OpenAI Assistant Thread.\n",
            "Current run status: in_progress\n",
            "Current run status: in_progress\n",
            "Current run status: in_progress\n",
            "Current run status: in_progress\n",
            "Current run status: in_progress\n",
            "Current run status: in_progress\n",
            "Current run status: in_progress\n",
            "Current run status: in_progress\n",
            "Current run status: in_progress\n",
            "Current run status: in_progress\n",
            "Current run status: in_progress\n",
            "Current run status: in_progress\n",
            "Current run status: in_progress\n",
            "Current run status: in_progress\n",
            "Current run status: in_progress\n",
            "Current run status: in_progress\n",
            "Current run status: in_progress\n",
            "Current run status: in_progress\n",
            "Current run status: completed\n",
            "assistant: For the business \"Mt Tam Pediatric Dentistry\" in Corte Madera, CA, there are **30 reviews** with an **overall rating of 5 stars**.\n",
            "\n",
            "Here is a summary of the review analysis for each business:\n",
            "1. **Poppy Kids Pediatric Dentistry**: 90 reviews, 5 stars.\n",
            "2. **Novato Children's Dentistry**: 200 reviews, 4.9 stars.\n",
            "3. **Mt Tam Pediatric Dentistry**: 30 reviews, 5 stars. \n",
            "\n",
            "Is there anything more specific you would like to know about these businesses or any other assistance needed?\n",
            "assistant: For the business \"Novato Children's Dentistry\" in Novato, CA, there are **200 reviews** with an **overall rating of 4.9 stars**.\n",
            "\n",
            "I will now move on to collect data from the third business.\n",
            "assistant: For the business \"Poppy Kids Pediatric Dentistry\" in Novato, CA, there are **90 reviews** with an **overall rating of 5 stars**.\n",
            "\n",
            "Let's move on to the next business to gather similar data.\n",
            "user: How many reviews are there for each business and what are the overall review score for business?\n"
          ]
        },
        {
          "data": {
            "text/plain": [
              "'thread_DvP3jzU4R45mk2VPN3NOzhFg'"
            ]
          },
          "execution_count": 63,
          "metadata": {},
          "output_type": "execute_result"
        }
      ],
      "source": [
        "# Test one here: #success!!!\n",
        "use_assistant(\"How many reviews are there for each business and what are the overall review score for business?\", assistant.id)"
      ]
    },
    {
      "cell_type": "markdown",
      "metadata": {},
      "source": [
        "# Jay: Somehow figure out how to run this function as part of function calling. Within it I need to feed the search business variable within the prompt."
      ]
    },
    {
      "cell_type": "code",
      "execution_count": null,
      "metadata": {},
      "outputs": [],
      "source": [
        "#I already have the function that I wish to be called.\n",
        "#fetch_reviews_and_update_assistant() - it featches the new set of reviews and adds them to the file reference store."
      ]
    },
    {
      "cell_type": "code",
      "execution_count": null,
      "metadata": {},
      "outputs": [],
      "source": [
        "# Now we need to express how our function works in a way that is compatible with the OpenAI Function Calling API.\n",
        "# We'll want to provide a `JSON` object that includes what parameters we have, how to call them, and a short natural language description.\n",
        "\n",
        "fetch_reviews_and_update_assistant_function = {\n",
        "    \"name\" : \"fetch_reviews_and_update_assistant\",\n",
        "    \"description\" : \"Fetch Google Maps reviews for a business and update an assistant with the reviews.\",\n",
        "    \"parameters\" : {\n",
        "        \"type\" : \"object\",\n",
        "        \"properties\" : {\n",
        "            \"business_search\" : {\n",
        "                \"type\" : \"string\",\n",
        "                \"description\" : \"The business to search for on Google Maps. For example: 'Novato Childrens Dentistry Novato CA usa'\"\n",
        "            },\n",
        "            \"assistant_id\" : {\n",
        "                \"type\" : \"string\",\n",
        "                \"description\" : \"The ID of the assistant to update.\"\n",
        "            }\n",
        "        },\n",
        "        \"required\" : [\"business_search\", \"assistant_id\"]\n",
        "    }\n",
        "}"
      ]
    },
    {
      "cell_type": "markdown",
      "metadata": {},
      "source": [
        "# Question: Do I need the assistant update if I am running this in the same thread in the assistants API?\n",
        "\n",
        "### If you're running this in the same thread in the Assistants API and you're creating the assistant and adding the files in the same session, you don't necessarily need to update the assistant. When you create an assistant and add files, those files are associated with the assistant immediately. The update operation is typically used when you want to modify an existing assistant's configuration, such as adding new files or changing the model. However, if you're adding new files after the assistant has been created and you want these new files to be associated with the assistant, you would need to update the assistant with the new file IDs. So, whether you need to update the assistant or not depends on when and how you're adding the files.\n",
        "\n",
        "### YES, I do. I am adding files after the assistant is created. This is the forever use case. "
      ]
    },
    {
      "cell_type": "code",
      "execution_count": null,
      "metadata": {},
      "outputs": [],
      "source": []
    },
    {
      "cell_type": "markdown",
      "metadata": {},
      "source": [
        "# Update the existing assistant, rather then creating a new one. i want to see if this is possible and also dont want to loose my docs. I also would like to add duck duck go to aid with the reviews analysis. "
      ]
    },
    {
      "cell_type": "code",
      "execution_count": null,
      "metadata": {},
      "outputs": [],
      "source": [
        "# Get the assistant ID\n",
        "assistant_id = assistant.id\n",
        "\n",
        "# Update the assistant\n",
        "updated_assistant = client.beta.assistants.update(\n",
        "    assistant_id=assistant_id,\n",
        "    name=name + \" + All Tools\",\n",
        "    instructions=instructions,\n",
        "    tools=[\n",
        "        {\"type\": \"code_interpreter\"},\n",
        "        {\"type\": \"retrieval\"},\n",
        "        {\"type\": \"function\", \"function\" : fetch_reviews_and_update_assistant}\n",
        "    ],\n",
        "    model=model,\n",
        "    file_ids=[file_reference.id],\n",
        ")"
      ]
    },
    {
      "cell_type": "code",
      "execution_count": null,
      "metadata": {},
      "outputs": [],
      "source": [
        "######################### Here!!!"
      ]
    },
    {
      "cell_type": "markdown",
      "metadata": {
        "id": "EdJxt77oLzu7"
      },
      "source": [
        "### Creating an Assistant with a Function Calling Tool\n",
        "\n",
        "Let's finally create an Assistant that utilizes the Function Calling API.\n",
        "\n",
        "We'll start by creating a function that we wish to be called.\n",
        "\n",
        "We'll utilize DuckDuckGo search to allow our Assistant to have the most up to date information!"
      ]
    },
    {
      "cell_type": "code",
      "execution_count": 59,
      "metadata": {
        "colab": {
          "base_uri": "https://localhost:8080/"
        },
        "id": "n5eKEC2wMMVI",
        "outputId": "8077815f-153d-4e9f-c315-74c12035bde7"
      },
      "outputs": [
        {
          "name": "stdout",
          "output_type": "stream",
          "text": [
            "\n",
            "\u001b[1m[\u001b[0m\u001b[34;49mnotice\u001b[0m\u001b[1;39;49m]\u001b[0m\u001b[39;49m A new release of pip is available: \u001b[0m\u001b[31;49m23.2.1\u001b[0m\u001b[39;49m -> \u001b[0m\u001b[32;49m24.0\u001b[0m\n",
            "\u001b[1m[\u001b[0m\u001b[34;49mnotice\u001b[0m\u001b[1;39;49m]\u001b[0m\u001b[39;49m To update, run: \u001b[0m\u001b[32;49mpip install --upgrade pip\u001b[0m\n"
          ]
        }
      ],
      "source": [
        "!pip install -qU duckduckgo_search"
      ]
    },
    {
      "cell_type": "code",
      "execution_count": 60,
      "metadata": {
        "id": "YPFZ_Uq_LawH"
      },
      "outputs": [],
      "source": [
        "from duckduckgo_search import DDGS\n",
        "\n",
        "def duckduckgo_search(query):\n",
        "  with DDGS() as ddgs:\n",
        "    results = [r for r in ddgs.text(query, max_results=5)]\n",
        "    return \"\\n\".join(result[\"body\"] for result in results)"
      ]
    },
    {
      "cell_type": "markdown",
      "metadata": {
        "id": "D-o1TBFpMSvR"
      },
      "source": [
        "Let's test our function to make sure it behaves as we expect it to."
      ]
    },
    {
      "cell_type": "code",
      "execution_count": 63,
      "metadata": {
        "colab": {
          "base_uri": "https://localhost:8080/",
          "height": 248
        },
        "id": "mCUr9jFCMWBw",
        "outputId": "368ab562-a1f1-4660-d07b-4e597cdc9fac"
      },
      "outputs": [
        {
          "data": {
            "text/plain": [
              "'A study by Harvard Business School found that a 1-star increase in Yelp ratings leads to a 5-9% increase in revenue. And while a Google review may not have as much of an impact, they can still lead to more sales and revenue for your business. So, if you want to improve your local SEO, build trust and credibility, and generate more sales, ensure ...\\nHow to use the calculator correctly. The 5-star rating calculator is a handy little tool that can help you figure out how many more reviews you need to get your overall or average rating to 5 stars. Here are a few examples of how to use it correctly: 1. Enter the current number of reviews you have. 2. Enter the current average rating you have. 3.\\nSimilar to other types of reviews, recipe cards in search results show the average review rating and the total number of reviews. Screenshot from search for [best vegan winter recipes], Google ...\\nA 5-star rating can be what you need to stand out in search results. Trust and SEO: Positive Google reviews boost trust and improve local search rankings. Quantity vs. Quality: Google removed the minimum review requirement for star ratings. Ratings depend on the number and quality of reviews. Avoid Buying Reviews: Buying reviews is against ...\\nThe Google star rating system is based on a scale of 1 to 5 stars, with 1 being the lowest and 5 being the highest. The rating is determined by a complex algorithm that considers several factors such as the number of reviews, the overall sentiment of the reviews, and the relevance of the reviews to the business.'"
            ]
          },
          "execution_count": 63,
          "metadata": {},
          "output_type": "execute_result"
        }
      ],
      "source": [
        "duckduckgo_search(\"How many 5 star Google reviews does a pediatric dentistry need to place at top of Google search results?\")"
      ]
    },
    {
      "cell_type": "markdown",
      "metadata": {
        "id": "FzE1nxt5Mi80"
      },
      "source": [
        "Now we need to express how our function works in a way that is compatible with the OpenAI Function Calling API.\n",
        "\n",
        "We'll want to provide a `JSON` object that includes what parameters we have, how to call them, and a short natural language description."
      ]
    },
    {
      "cell_type": "code",
      "execution_count": 65,
      "metadata": {
        "id": "8ElrWvBnMY_s"
      },
      "outputs": [],
      "source": [
        "ddg_function = {\n",
        "    \"name\" : \"duckduckgo_search\",\n",
        "    \"description\" : \"Answer non-technical questions. \",\n",
        "    \"parameters\" : {\n",
        "        \"type\" : \"object\",\n",
        "        \"properties\" : {\n",
        "            \"query\" : {\n",
        "                \"type:\" : \"string\",\n",
        "                \"description\" : \"The search query to use. For example: 'What is the importance of Google reviews in local SEO?'\"\n",
        "            }\n",
        "        },\n",
        "        \"required\" : [\"query\"]\n",
        "    }\n",
        "}"
      ]
    },
    {
      "cell_type": "markdown",
      "metadata": {
        "id": "NyRmJgEQVuGs"
      },
      "source": [
        "####❓ Question\n",
        "\n",
        "Why does the description key-value pair matter?"
      ]
    },
    {
      "cell_type": "markdown",
      "metadata": {},
      "source": [
        "#### ANSWER:\n",
        "It helps clarify the purpose and usage of the function. "
      ]
    },
    {
      "cell_type": "markdown",
      "metadata": {
        "id": "tir4WySGM0x2"
      },
      "source": [
        "Now when we create our Assistant - we'll want to include the function description as a tool using the following format."
      ]
    },
    {
      "cell_type": "markdown",
      "metadata": {},
      "source": [
        "Jay: Can I assign multiple functions simultanously?"
      ]
    },
    {
      "cell_type": "code",
      "execution_count": 66,
      "metadata": {
        "id": "4eFpwi12Mzlg"
      },
      "outputs": [],
      "source": [
        "assistant = client.beta.assistants.create(\n",
        "    name=name + \" + Function Calling API\",\n",
        "    instructions=instructions,\n",
        "    tools=[\n",
        "        {\"type\": \"function\",\n",
        "         \"function\" : ddg_function\n",
        "        }\n",
        "    ],\n",
        "    model=model\n",
        ")"
      ]
    },
    {
      "cell_type": "markdown",
      "metadata": {
        "id": "nJCLvWZzNIXR"
      },
      "source": [
        "We need to make a few modifications to our Assistant to include the ability to make calls to our local function and pass the results back to our Assistant for further generation."
      ]
    },
    {
      "cell_type": "code",
      "execution_count": 68,
      "metadata": {
        "id": "XHRfvGJ_NQnF"
      },
      "outputs": [],
      "source": [
        "import json\n",
        "\n",
        "def wait_for_run_completion(thread_id, run_id):\n",
        "    \"\"\"\n",
        "    Waits for the completion of a run identified by the given thread ID and run ID.\n",
        "\n",
        "    Args:\n",
        "        thread_id (str): The ID of the thread containing the run.\n",
        "        run_id (str): The ID of the run to wait for.\n",
        "\n",
        "    Returns:\n",
        "        dict: The details of the completed run.\n",
        "\n",
        "    Raises:\n",
        "        None\n",
        "\n",
        "    \"\"\"\n",
        "    while True:\n",
        "        time.sleep(1)\n",
        "        run = client.beta.threads.runs.retrieve(thread_id=thread_id, run_id=run_id)\n",
        "        print(f\"Current run status: {run.status}\")\n",
        "        if run.status in ['completed', 'failed', 'requires_action']:\n",
        "            return run\n",
        "\n",
        "def submit_tool_outputs(thread_id, run_id, tools_to_call):\n",
        "    \"\"\"\n",
        "    Submits the tool outputs to the specified thread and run.\n",
        "\n",
        "    Args:\n",
        "        thread_id (str): The ID of the thread to submit the tool outputs to.\n",
        "        run_id (str): The ID of the run to submit the tool outputs to.\n",
        "        tools_to_call (list): A list of tools to call and retrieve outputs from.\n",
        "\n",
        "    Returns:\n",
        "        dict: A dictionary containing the submitted tool outputs.\n",
        "\n",
        "    \"\"\"\n",
        "    tool_output_array = []\n",
        "    for tool in tools_to_call:\n",
        "        output = None\n",
        "        tool_call_id = tool.id\n",
        "        function_name = tool.function.name\n",
        "        function_args = tool.function.arguments\n",
        "\n",
        "        if function_name == \"duckduckgo_search\":\n",
        "            print(\"Consulting Duck Duck Go...\")\n",
        "            output = duckduckgo_search(query=json.loads(function_args)[\"query\"])\n",
        "\n",
        "        if output:\n",
        "            tool_output_array.append({\"tool_call_id\": tool_call_id, \"output\": output})\n",
        "\n",
        "    print(tool_output_array)\n",
        "\n",
        "    return client.beta.threads.runs.submit_tool_outputs(\n",
        "        thread_id=thread_id,\n",
        "        run_id=run_id,\n",
        "        tool_outputs=tool_output_array\n",
        "    )\n",
        "\n",
        "def print_messages_from_thread(thread_id):\n",
        "    \"\"\"\n",
        "    Prints the messages from a given thread.\n",
        "\n",
        "    Args:\n",
        "        thread_id (str): The ID of the thread.\n",
        "\n",
        "    Returns:\n",
        "        None\n",
        "    \"\"\"\n",
        "    messages = client.beta.threads.messages.list(thread_id=thread_id)\n",
        "    for msg in messages:\n",
        "        print(f\"{msg.role}: {msg.content[0].text.value}\")\n",
        "\n",
        "def use_assistant(query, assistant_id, thread_id=None):\n",
        "    \"\"\"\n",
        "    Uses the OpenAI Assistant to interact with the AI model.\n",
        "\n",
        "    Args:\n",
        "        query (str): The user's query or message.\n",
        "        assistant_id (str): The ID of the OpenAI Assistant.\n",
        "        thread_id (str, optional): The ID of the thread to use. If not provided, a new thread will be created.\n",
        "\n",
        "    Returns:\n",
        "        str: The ID of the thread used for the conversation.\n",
        "    \"\"\"\n",
        "    thread = client.beta.threads.create()\n",
        "\n",
        "    message = client.beta.threads.messages.create(\n",
        "        thread_id=thread.id,\n",
        "        role=\"user\",\n",
        "        content=query,\n",
        "    )\n",
        "\n",
        "    print(\"Creating Assistant \")\n",
        "\n",
        "    run = client.beta.threads.runs.create(\n",
        "        thread_id=thread.id,\n",
        "        assistant_id=assistant_id,\n",
        "    )\n",
        "\n",
        "    print(\"Querying OpenAI Assistant Thread.\")\n",
        "\n",
        "    run = wait_for_run_completion(thread.id, run.id)\n",
        "\n",
        "    if run.status == 'requires_action':\n",
        "        run = submit_tool_outputs(thread.id, run.id, run.required_action.submit_tool_outputs.tool_calls)\n",
        "        run = wait_for_run_completion(thread.id, run.id)\n",
        "\n",
        "    print_messages_from_thread(thread.id)\n",
        "\n",
        "    return thread.id\n"
      ]
    },
    {
      "cell_type": "markdown",
      "metadata": {
        "id": "NoChJ771Uo0B"
      },
      "source": [
        "####❓ Question\n",
        "\n",
        "Outline, in simple terms, what the `use_assistant` helper function is doing."
      ]
    },
    {
      "cell_type": "markdown",
      "metadata": {},
      "source": [
        "#### ANSWER\n",
        "The use_assistant function is the main function that uses the assistant. It creates a new thread, creates a new message in the thread with the user's query, and creates a new run with the assistant. If the run requires action, it submits the tool outputs and waits for the run to complete. Finally, it prints all the messages from the thread and returns the thread id."
      ]
    },
    {
      "cell_type": "code",
      "execution_count": 69,
      "metadata": {
        "colab": {
          "base_uri": "https://localhost:8080/"
        },
        "id": "d5NR_HYINky8",
        "outputId": "60042cd6-117f-423e-9f75-5ea1d663c602"
      },
      "outputs": [
        {
          "name": "stdout",
          "output_type": "stream",
          "text": [
            "Creating Assistant \n",
            "Querying OpenAI Assistant Thread.\n",
            "Current run status: in_progress\n",
            "Current run status: requires_action\n",
            "Consulting Duck Duck Go...\n",
            "[{'tool_call_id': 'call_nDMnWA1z7x8MZvoihT5zGnVs', 'output': \"1) The Owner Sets The Review Stage. 65% of review writers have left negative reviews after experiencing bad or rude customer service, and an additional 28% say their negative reviews result from businesses failing to resolve their complaints at the time of service. One of the best paths to building a sterling local business reputation is to run ...\\nPlus, skillful review management can also impact a business's success. Hence, you may have already got a gist of why are Google Reviews important. Now, let's dive into the 7 staggering benefits of Google Reviews in detail! 1. Increases Trust and Credibility. Google dominates the search engine market with a 92% share.\\nHow Reviews & Ratings Impact Local SEO for Google Maps. For listings on Google Maps, our local rank trackers found that the average number of reviews for a listing had a significantly stronger impact on its performance, compared to average rating. In fact, we found that average rating did not correlate with placement for the first three positions.\\nGetting Google reviews for your business will also impact your website's SEO considerably. Below mentioned here are a few ways in which you can improve the SEO of your website through Google reviews: 1. Local SEO can be improved. Positive Google reviews can boost your local search engine rankings.\\nTo get to your reviews in Google search, simply search for your business name or enter the words [My Business] in the search bar. You will see your Business Profile manager panel on the left-hand ...\"}]\n",
            "Current run status: in_progress\n",
            "Current run status: completed\n",
            "assistant: Yes, Google reviews are vital for local SEO as they can significantly impact your business's visibility and search engine rankings on Google Maps and local searches. Positive reviews increase trust and credibility, which can boost your search position.\n",
            "user: Do I need Goggle reviews for local SEO?\n"
          ]
        },
        {
          "data": {
            "text/plain": [
              "'thread_esMzUcQOK8dh25E6HvpTdxzV'"
            ]
          },
          "execution_count": 69,
          "metadata": {},
          "output_type": "execute_result"
        }
      ],
      "source": [
        "use_assistant(\"Do I need Goggle reviews for local SEO?\", assistant.id)"
      ]
    },
    {
      "cell_type": "markdown",
      "metadata": {
        "id": "vY51QtkGNvQe"
      },
      "source": [
        "## Wrapping it All Together (Super good)\n",
        "\n",
        "Now we can create an Assistant with all of the available tools and see how it responds to various queries!"
      ]
    },
    {
      "cell_type": "code",
      "execution_count": 70,
      "metadata": {
        "id": "HaoQSB7CN74T"
      },
      "outputs": [],
      "source": [
        "assistant = client.beta.assistants.create(\n",
        "    name=name + \" + All Tools\",\n",
        "    instructions=instructions,\n",
        "    tools=[\n",
        "        {\"type\": \"code_interpreter\"},\n",
        "        {\"type\": \"retrieval\"},\n",
        "        #{\"type\": \"function\", \"function\" : ddg_function}\n",
        "    ],\n",
        "    model=model,\n",
        "    file_ids=[file_reference.id],\n",
        ")"
      ]
    },
    {
      "cell_type": "code",
      "execution_count": 71,
      "metadata": {
        "colab": {
          "base_uri": "https://localhost:8080/"
        },
        "id": "g2GtwoGDPwp2",
        "outputId": "e276723d-54e1-41ff-8b47-ef725caaabb9"
      },
      "outputs": [
        {
          "name": "stdout",
          "output_type": "stream",
          "text": [
            "Creating Assistant \n",
            "Querying OpenAI Assistant Thread.\n",
            "Current run status: in_progress\n",
            "Current run status: in_progress\n",
            "Current run status: completed\n",
            "assistant: Choosing a pediatric dentist over a general dentist is recommended because pediatric dentists receive specialized training in caring for children’s teeth, gums, and mouth through all stages of childhood. They are also trained to handle the unique behavioral needs of children, making dental visits more positive and effective for young patients.\n",
            "user: Why should I choose a pediatric dentist over a general dentist?\n"
          ]
        },
        {
          "data": {
            "text/plain": [
              "'thread_eEcsOtjN1MJb6xMlj07cpvLe'"
            ]
          },
          "execution_count": 71,
          "metadata": {},
          "output_type": "execute_result"
        }
      ],
      "source": [
        "use_assistant(\"Why should I choose a pediatric dentist over a general dentist?\", assistant.id)"
      ]
    },
    {
      "cell_type": "code",
      "execution_count": 72,
      "metadata": {
        "colab": {
          "base_uri": "https://localhost:8080/"
        },
        "id": "7QjcxpQ5P-HX",
        "outputId": "43f6a9be-ad9b-4177-92bb-6064dbc0d88b"
      },
      "outputs": [
        {
          "name": "stdout",
          "output_type": "stream",
          "text": [
            "Creating Assistant \n",
            "Querying OpenAI Assistant Thread.\n",
            "Current run status: in_progress\n",
            "Current run status: in_progress\n",
            "Current run status: completed\n",
            "assistant: The document contains a total of 11 questions.\n",
            "user: How many questions are there in my document?\n"
          ]
        },
        {
          "data": {
            "text/plain": [
              "'thread_W1oO6LbADHBSQ02WNMF1j8fI'"
            ]
          },
          "execution_count": 72,
          "metadata": {},
          "output_type": "execute_result"
        }
      ],
      "source": [
        "use_assistant(\"How many questions are there in my document?\", assistant.id)"
      ]
    },
    {
      "cell_type": "code",
      "execution_count": 73,
      "metadata": {
        "colab": {
          "base_uri": "https://localhost:8080/"
        },
        "id": "kSKL96nvQIUq",
        "outputId": "e054c800-7c54-4601-d972-4b3c5dc1125d"
      },
      "outputs": [
        {
          "name": "stdout",
          "output_type": "stream",
          "text": [
            "Creating Assistant \n",
            "Querying OpenAI Assistant Thread.\n",
            "Current run status: in_progress\n",
            "Current run status: in_progress\n",
            "Current run status: in_progress\n",
            "Current run status: in_progress\n",
            "Current run status: in_progress\n",
            "Current run status: in_progress\n",
            "Current run status: in_progress\n",
            "Current run status: in_progress\n",
            "Current run status: in_progress\n",
            "Current run status: completed\n",
            "assistant: - When is a good time for a child's first dental visit and what should parents expect?\n",
            "- What age should children start getting dental x-rays and why are they important?\n",
            "- What's the best age to introduce an electric toothbrush to children and which type is recommended?\n",
            "- Why do children's teeth sometimes appear yellow and how can it be addressed?\n",
            "- How can parents determine the right time for their child to visit an orthodontist?\n",
            "- What age do children typically lose their first tooth and what should parents do when their child's tooth is wiggly?\n",
            "- Until what age does your pediatric dental practice provide care for patients?\n",
            "- What is the ideal age for children to stop using a pacifier or engaging in thumb sucking?\n",
            "- When is it appropriate to evaluate a child for wisdom tooth extraction?\n",
            "- What age is it safe for teenagers to begin teeth whitening procedures?\n",
            "- What age should children start brushing and flossing their teeth independently?\n",
            "- Why should your child see a Board-Certified Pediatric Dentist?\n",
            "- Can I stay with my child during the treatment?\n",
            "user: Extract all questions in my document as  bullet points. I only want the questions.\n"
          ]
        },
        {
          "data": {
            "text/plain": [
              "'thread_OrnTmB0SnJ042iKZPisRsWaH'"
            ]
          },
          "execution_count": 73,
          "metadata": {},
          "output_type": "execute_result"
        }
      ],
      "source": [
        "use_assistant(\"Extract all questions in my document as  bullet points. I only want the questions.\", assistant.id)"
      ]
    },
    {
      "cell_type": "markdown",
      "metadata": {
        "id": "gm0oYJu7VAjg"
      },
      "source": [
        "####❓ Question\n",
        "\n",
        "Notice that our response can go through multiple paths, given that:\n",
        "\n",
        "What is \"deciding\" to use the tool?"
      ]
    },
    {
      "cell_type": "markdown",
      "metadata": {},
      "source": [
        "#### ANSWER:\n",
        "I think the answer is both sequential and contextual logic. This makes the most sense to me. I think this is the reason we add answer non technical question. The model checks the knowledge base first (retrival). If it does not find the answer there then moves on to the web search. This is controlled by the \"non technical\" question part. if there is any math / coding involved it defaults to the code retrieval tool.\n",
        "One interesting thing would be to try to add the coding questions answer to the knowledge base. In my example I have 13 questions with answers in my document. What if one of my question asked: How many questions are there in my document? And the answer was 20 instead of the correct 13. Would it return 20 since it finds the answer in my knowledge base?"
      ]
    },
    {
      "cell_type": "markdown",
      "metadata": {
        "id": "FrJWQ4XvZ20K"
      },
      "source": [
        "### Adding JSON Mode for More Agentic Behaviour\n",
        "\n",
        "Finally, we have the ability to select tools - all we need to do now is set up a process to allow us to create some kind of loop and make decisions about whether or not the response is complete or not.\n",
        "\n",
        "We'll leverage the OpenAI completions end-endpoint with JSON mode to let us understand when we've adequately answered our user's question!"
      ]
    },
    {
      "cell_type": "code",
      "execution_count": 74,
      "metadata": {
        "id": "Rzrk8gn2anpe"
      },
      "outputs": [],
      "source": [
        "completed_template = \\\n",
        "\"\"\"\n",
        "Does this response adequately answer the user's query?\n",
        "\n",
        "Please return your response in JSON format - with key: \"completed\" and either True (if completed) or False (if not completed)\n",
        "\n",
        "User Query:\n",
        "{query}\n",
        "\n",
        "Assistant Response:\n",
        "{response}\n",
        "\"\"\"\n",
        "\n",
        "def is_complete(query, response):\n",
        "  completed_response = client.chat.completions.create(\n",
        "      messages=[\n",
        "          {\n",
        "              \"role\": \"user\",\n",
        "              \"content\": completed_template.format(query=query, response=response),\n",
        "          }\n",
        "      ],\n",
        "      model=model,\n",
        "      response_format={\"type\" : \"json_object\"}\n",
        "  )\n",
        "\n",
        "  return completed_response"
      ]
    },
    {
      "cell_type": "code",
      "execution_count": 93,
      "metadata": {
        "colab": {
          "base_uri": "https://localhost:8080/"
        },
        "id": "9kCQrx03brge",
        "outputId": "2e2a716d-718f-4e06-bf80-a58922180441"
      },
      "outputs": [
        {
          "name": "stdout",
          "output_type": "stream",
          "text": [
            "Creating Assistant \n",
            "Querying OpenAI Assistant Thread.\n",
            "Current run status: in_progress\n",
            "Current run status: in_progress\n",
            "Current run status: in_progress\n",
            "Current run status: completed\n",
            "assistant: The provided file is 11,043 bytes in size.\n",
            "user: How many bytes is the provided file?\n"
          ]
        }
      ],
      "source": [
        "query = \"How many bytes is the provided file?\"\n",
        "\n",
        "thread_id_for_response = use_assistant(query, assistant.id)"
      ]
    },
    {
      "cell_type": "markdown",
      "metadata": {
        "id": "lSJs9oDIgBTK"
      },
      "source": [
        "Now we can observe JSON mode in action!"
      ]
    },
    {
      "cell_type": "code",
      "execution_count": 76,
      "metadata": {
        "id": "MSDsmlDBcYk_"
      },
      "outputs": [],
      "source": [
        "messages = client.beta.threads.messages.list(thread_id=thread_id_for_response)\n",
        "response = messages.data[0].content[0].text.value\n",
        "completed_flag = json.loads(is_complete(query, response).choices[0].message.content)"
      ]
    },
    {
      "cell_type": "code",
      "execution_count": 84,
      "metadata": {},
      "outputs": [
        {
          "data": {
            "text/plain": [
              "SyncCursorPage[Message](data=[Message(id='msg_t1QJ4ozNngEAkA7YxWcFdddj', assistant_id='asst_dYx26lafARyFiozBz5MfFNZg', completed_at=None, content=[TextContentBlock(text=Text(annotations=[], value='The provided file is 11,043 bytes in size.'), type='text')], created_at=1712951728, file_ids=[], incomplete_at=None, incomplete_details=None, metadata={}, object='thread.message', role='assistant', run_id='run_O60vqxyOrMBAkfUWrR0SPbjD', status=None, thread_id='thread_uDRImtznWXjo2SjeKSuwSCuP'), Message(id='msg_YgKDf549KUJb9AjbDGLSfL9X', assistant_id=None, completed_at=None, content=[TextContentBlock(text=Text(annotations=[], value='How many bytes is the provided file?'), type='text')], created_at=1712951723, file_ids=[], incomplete_at=None, incomplete_details=None, metadata={}, object='thread.message', role='user', run_id=None, status=None, thread_id='thread_uDRImtznWXjo2SjeKSuwSCuP')], object='list', first_id='msg_t1QJ4ozNngEAkA7YxWcFdddj', last_id='msg_YgKDf549KUJb9AjbDGLSfL9X', has_more=False)"
            ]
          },
          "execution_count": 84,
          "metadata": {},
          "output_type": "execute_result"
        }
      ],
      "source": [
        "messages"
      ]
    },
    {
      "cell_type": "code",
      "execution_count": 85,
      "metadata": {},
      "outputs": [
        {
          "data": {
            "text/plain": [
              "'The provided file is 11,043 bytes in size.'"
            ]
          },
          "execution_count": 85,
          "metadata": {},
          "output_type": "execute_result"
        }
      ],
      "source": [
        "response"
      ]
    },
    {
      "cell_type": "code",
      "execution_count": 78,
      "metadata": {
        "colab": {
          "base_uri": "https://localhost:8080/"
        },
        "id": "_-SKB6TWf_Ra",
        "outputId": "e2fdb56c-ca8a-4011-ff25-eb55d8dc5d1f"
      },
      "outputs": [
        {
          "name": "stdout",
          "output_type": "stream",
          "text": [
            "{'completed': True}\n"
          ]
        }
      ],
      "source": [
        "completed_flag"
      ]
    },
    {
      "cell_type": "markdown",
      "metadata": {
        "id": "bivIAVh0dTwA"
      },
      "source": [
        "## 🚧 BONUS CHALLENGE 🚧:\n",
        "\n",
        "Use the components we've constructed so far to build a loop that lets us continue to query the Assistant if the response is not completed!"
      ]
    },
    {
      "cell_type": "code",
      "execution_count": 94,
      "metadata": {
        "id": "vtWh_h_WfjuS"
      },
      "outputs": [
        {
          "name": "stdout",
          "output_type": "stream",
          "text": [
            "Creating Assistant \n",
            "Querying OpenAI Assistant Thread.\n",
            "Current run status: in_progress\n",
            "Current run status: completed\n",
            "assistant: I don't have the capability to know or predict what is in your pocket right now. If you have specific information or questions related to pediatric dentistry, feel free to ask!\n",
            "user: What is in my pocket right now?\n",
            "Creating Assistant \n",
            "Querying OpenAI Assistant Thread.\n",
            "Current run status: in_progress\n",
            "Current run status: completed\n",
            "assistant: I can't help with that question. If you have any queries or need assistance with the documents you uploaded, please let me know!\n",
            "user: What is in my pocket right now?\n",
            "Creating Assistant \n",
            "Querying OpenAI Assistant Thread.\n",
            "Current run status: in_progress\n",
            "Current run status: completed\n",
            "assistant: I am unable to determine the contents of your pocket without direct observation or additional information.\n",
            "user: What is in my pocket right now?\n"
          ]
        }
      ],
      "source": [
        "### YOUR CODE HERE: not sure how to test this other then this. Sometimes it runs for 5 cycles, sometimes just twice. \n",
        "## After talking to Chris, i created a new thread_id before I run the below code and it did run a few times with completed_flag = False.  \n",
        "\n",
        "\n",
        "query = \"What is in my pocket right now?\"\n",
        "completed_flag = False\n",
        "\n",
        "while completed_flag == False:\n",
        "    thread_id_for_response = use_assistant(query, assistant.id)\n",
        "    messages = client.beta.threads.messages.list(thread_id=thread_id_for_response)\n",
        "    response = messages.data[0].content[0].text.value\n",
        "    completed_flag = json.loads(is_complete(query, response).choices[0].message.content)['completed']\n"
      ]
    },
    {
      "cell_type": "code",
      "execution_count": 95,
      "metadata": {},
      "outputs": [
        {
          "data": {
            "text/plain": [
              "True"
            ]
          },
          "execution_count": 95,
          "metadata": {},
          "output_type": "execute_result"
        }
      ],
      "source": [
        "completed_flag"
      ]
    },
    {
      "cell_type": "markdown",
      "metadata": {
        "id": "VJjYm6gnfWrS"
      },
      "source": [
        "# Make Sure You Delete Resources\n",
        "\n",
        "Make sure you delete all the resources you created!\n",
        "\n",
        "This function will help you do so!"
      ]
    },
    {
      "cell_type": "code",
      "execution_count": null,
      "metadata": {
        "id": "62b49AleR6m_"
      },
      "outputs": [],
      "source": [
        "file_deletion_status = client.beta.assistants.files.delete(\n",
        "  assistant_id=assistant.id,\n",
        "  file_id=file_reference.id\n",
        ")"
      ]
    },
    {
      "cell_type": "markdown",
      "metadata": {},
      "source": [
        "###############################################################"
      ]
    },
    {
      "cell_type": "markdown",
      "metadata": {},
      "source": [
        "# LATER Experiments for Outscraper - These can be used for added functionality if I want to add to reviews intelligence tool. "
      ]
    },
    {
      "cell_type": "code",
      "execution_count": null,
      "metadata": {},
      "outputs": [],
      "source": [
        "# Another experient to load all files under data reviews as I create the assistant. Alternatively I can update the assistant with all files.\n",
        "# So in essence I have two options. Update the existing new assistant with new file OR\n",
        "# delete the existing file(s) wihin the assistant and reload the assistant with all files under data_reviews. \n",
        "\n",
        "import os\n",
        "\n",
        "# Directory containing the files\n",
        "directory = '/Users/acrobat/Documents/GitHub/AI-Engineering-Cohort-2/Week 2/Day 2/data_reviews/'\n",
        "\n",
        "# Get a list of all files in the directory\n",
        "files = os.listdir(directory)\n",
        "\n",
        "# Create a file reference for each file\n",
        "file_references = [client.files.create(file=open(directory + file, \"rb\"), purpose='assistants') for file in files]\n",
        "\n",
        "# Get the IDs of the file references\n",
        "file_ids = [file_reference.id for file_reference in file_references]\n",
        "\n",
        "# Create the assistant\n",
        "assistant = client.beta.assistants.create(\n",
        "    name=name + \" + Google Reviews multi file\",\n",
        "    instructions=instructions,\n",
        "    tools=[\n",
        "        {\"type\": \"code_interpreter\"},\n",
        "        {\"type\": \"retrieval\"},\n",
        "       # {\"type\": \"function\", \"function\" : ddg_function}\n",
        "    ],\n",
        "    model=model,\n",
        "    file_ids=file_ids,\n",
        ")"
      ]
    }
  ],
  "metadata": {
    "colab": {
      "provenance": []
    },
    "kernelspec": {
      "display_name": "Python 3",
      "name": "python3"
    },
    "language_info": {
      "codemirror_mode": {
        "name": "ipython",
        "version": 3
      },
      "file_extension": ".py",
      "mimetype": "text/x-python",
      "name": "python",
      "nbconvert_exporter": "python",
      "pygments_lexer": "ipython3",
      "version": "3.11.6"
    }
  },
  "nbformat": 4,
  "nbformat_minor": 0
}
