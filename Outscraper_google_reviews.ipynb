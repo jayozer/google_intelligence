{
 "cells": [
  {
   "cell_type": "markdown",
   "metadata": {},
   "source": [
    "# Installation"
   ]
  },
  {
   "cell_type": "code",
   "execution_count": 1,
   "metadata": {},
   "outputs": [
    {
     "name": "stdout",
     "output_type": "stream",
     "text": [
      "Requirement already satisfied: outscraper in ./reviews_env/lib/python3.11/site-packages (5.1.0)\n",
      "Requirement already satisfied: pandas in ./reviews_env/lib/python3.11/site-packages (2.2.2)\n",
      "Requirement already satisfied: requests in ./reviews_env/lib/python3.11/site-packages (from outscraper) (2.31.0)\n",
      "Requirement already satisfied: numpy>=1.23.2 in ./reviews_env/lib/python3.11/site-packages (from pandas) (1.26.4)\n",
      "Requirement already satisfied: python-dateutil>=2.8.2 in ./reviews_env/lib/python3.11/site-packages (from pandas) (2.9.0.post0)\n",
      "Requirement already satisfied: pytz>=2020.1 in ./reviews_env/lib/python3.11/site-packages (from pandas) (2024.1)\n",
      "Requirement already satisfied: tzdata>=2022.7 in ./reviews_env/lib/python3.11/site-packages (from pandas) (2024.1)\n",
      "Requirement already satisfied: six>=1.5 in ./reviews_env/lib/python3.11/site-packages (from python-dateutil>=2.8.2->pandas) (1.16.0)\n",
      "Requirement already satisfied: charset-normalizer<4,>=2 in ./reviews_env/lib/python3.11/site-packages (from requests->outscraper) (3.3.2)\n",
      "Requirement already satisfied: idna<4,>=2.5 in ./reviews_env/lib/python3.11/site-packages (from requests->outscraper) (3.7)\n",
      "Requirement already satisfied: urllib3<3,>=1.21.1 in ./reviews_env/lib/python3.11/site-packages (from requests->outscraper) (2.2.1)\n",
      "Requirement already satisfied: certifi>=2017.4.17 in ./reviews_env/lib/python3.11/site-packages (from requests->outscraper) (2024.2.2)\n",
      "\n",
      "\u001b[1m[\u001b[0m\u001b[34;49mnotice\u001b[0m\u001b[1;39;49m]\u001b[0m\u001b[39;49m A new release of pip is available: \u001b[0m\u001b[31;49m23.2.1\u001b[0m\u001b[39;49m -> \u001b[0m\u001b[32;49m24.1.1\u001b[0m\n",
      "\u001b[1m[\u001b[0m\u001b[34;49mnotice\u001b[0m\u001b[1;39;49m]\u001b[0m\u001b[39;49m To update, run: \u001b[0m\u001b[32;49mpip install --upgrade pip\u001b[0m\n"
     ]
    }
   ],
   "source": [
    "! pip install outscraper pandas"
   ]
  },
  {
   "cell_type": "markdown",
   "metadata": {},
   "source": [
    "# Initialization"
   ]
  },
  {
   "cell_type": "code",
   "execution_count": 2,
   "metadata": {},
   "outputs": [],
   "source": [
    "from getpass import getpass\n",
    "import os\n",
    "from outscraper import ApiClient\n",
    "\n",
    "# Prompt the user to enter the API key\n",
    "os.environ[\"OUTSCRAPER_API_KEY\"] = getpass(\"Outscraper API Key:\")\n",
    "\n",
    "# Use the API key from the environment variable\n",
    "client = ApiClient(api_key=os.environ[\"OUTSCRAPER_API_KEY\"])"
   ]
  },
  {
   "cell_type": "markdown",
   "metadata": {},
   "source": [
    "# Scrape Google Search"
   ]
  },
  {
   "cell_type": "code",
   "execution_count": null,
   "metadata": {},
   "outputs": [],
   "source": [
    "# Googel Search\n",
    "results = client.google_search('bitcoin')\n",
    "\n",
    "# Googel Search News\n",
    "results = client.google_search_news('election', language='en')"
   ]
  },
  {
   "cell_type": "markdown",
   "metadata": {},
   "source": [
    "# Scrape Google Maps (Places)\n"
   ]
  },
  {
   "cell_type": "code",
   "execution_count": 3,
   "metadata": {},
   "outputs": [],
   "source": [
    "# Search for businesses in specific locations:\n",
    "results = client.google_maps_search('pediatric dentist novato ca usa', limit=3, language='en')"
   ]
  },
  {
   "cell_type": "code",
   "execution_count": 4,
   "metadata": {},
   "outputs": [
    {
     "name": "stdout",
     "output_type": "stream",
     "text": [
      "[[{'query': 'pediatric dentist novato ca usa', 'name': 'Novato Pediatric Dentistry', 'name_for_emails': 'Novato Pediatric Dentistry', 'place_id': 'ChIJJ0DU9nu7hYAR12EPlrPOHjw', 'google_id': '0x8085bb7bf6d44027:0x3c1eceb3960f61d7', 'full_address': '7428 Redwood Blvd STE 101, Novato, CA 94945', 'borough': None, 'street': '7428 Redwood Blvd STE 101', 'postal_code': '94945', 'area_service': False, 'country_code': 'US', 'country': 'United States of America', 'city': 'Novato', 'us_state': 'California', 'state': 'California', 'plus_code': None, 'latitude': 38.110182, 'longitude': -122.568407, 'h3': '892830aa0abffff', 'time_zone': 'America/Los_Angeles', 'popular_times': None, 'site': 'http://www.novatopediatricdentistry.com/', 'phone': '+1 415-897-5566', 'type': 'Pediatric dentist', 'logo': 'https://lh6.googleusercontent.com/-UyVxl2iLBdY/AAAAAAAAAAI/AAAAAAAAAAA/tDAPvNjo9MY/s44-p-k-no-ns-nd/photo.jpg', 'description': None, 'typical_time_spent': None, 'located_in': None, 'located_google_id': None, 'category': 'Pediatric dentist', 'subtypes': 'Pediatric dentist, Dentist', 'posts': None, 'reviews_tags': None, 'rating': 4.9, 'reviews': 220, 'photos_count': 15, 'cid': '4332127162289054167', 'reviews_link': 'https://search.google.com/local/reviews?placeid=ChIJJ0DU9nu7hYAR12EPlrPOHjw&q=*&authuser=0&hl=en&gl=US', 'reviews_id': '4332127162289054167', 'photo': 'https://lh5.googleusercontent.com/p/AF1QipOEt4JS2NVFOitoZ1VVU129Ihc4IUvrjZBO3wxk=w800-h500-k-no', 'street_view': 'https://lh5.googleusercontent.com/p/AF1QipOEt4JS2NVFOitoZ1VVU129Ihc4IUvrjZBO3wxk=w1600-h1000-k-no', 'working_hours_old_format': 'Monday:9AM-6PM|Tuesday:8AM-5PM|Wednesday:8AM-5PM|Thursday:8AM-5PM|Friday:7AM-3PM|Saturday:Closed|Sunday:Closed', 'working_hours': {'Monday': '9AM-6PM', 'Tuesday': '8AM-5PM', 'Wednesday': '8AM-5PM', 'Thursday': '8AM-5PM', 'Friday': '7AM-3PM', 'Saturday': 'Closed', 'Sunday': 'Closed'}, 'other_hours': None, 'business_status': 'OPERATIONAL', 'about': {'Accessibility': {'Wheelchair accessible entrance': True, 'Wheelchair accessible parking lot': True, 'Wheelchair accessible restroom': True}, 'Amenities': {'Restroom': True}, 'Planning': {'Accepts new patients': True, 'Appointments recommended': True}}, 'range': None, 'reviews_per_score': {'1': 3, '2': 2, '3': 2, '4': 4, '5': 209}, 'reservation_links': None, 'booking_appointment_link': None, 'menu_link': None, 'order_links': None, 'owner_id': '105305677253229107430', 'verified': True, 'owner_title': 'Novato Pediatric Dentistry', 'owner_link': 'https://www.google.com/maps/contrib/105305677253229107430', 'location_link': 'https://www.google.com/maps/place/Novato+Pediatric+Dentistry/@38.110182,-122.568407,14z/data=!4m8!1m2!2m1!1sNovato+Pediatric+Dentistry!3m4!1s0x8085bb7bf6d44027:0x3c1eceb3960f61d7!8m2!3d38.110182!4d-122.568407', 'location_reviews_link': 'https://www.google.com/maps/place/Novato+Pediatric+Dentistry/@38.110182,-122.568407,13.99z/data=!4m16!1m7!3m6!1s0x8085bb7bf6d44027:0x3c1eceb3960f61d7!2sNovato+Pediatric+Dentistry!8m2!3d38.110182!4d-122.568407!16s%2Fg%2F11ckvg1dmb!3m7!1s0x8085bb7bf6d44027:0x3c1eceb3960f61d7!8m2!3d38.110182!4d-122.568407!9m1!1b1!16s%2Fg%2F11ckvg1dmb?entry=ttu'}, {'query': 'pediatric dentist novato ca usa', 'name': \"Novato Children's Dentistry\", 'name_for_emails': 'Novato Childrens Dentistry', 'place_id': 'ChIJixa-83y7hYARYPidwgCrF7A', 'google_id': '0x8085bb7cf3be168b:0xb017ab00c29df860', 'full_address': '1223 Grant Ave Ste A, Novato, CA 94945', 'borough': None, 'street': '1223 Grant Ave Ste A', 'postal_code': '94945', 'area_service': False, 'country_code': 'US', 'country': 'United States of America', 'city': 'Novato', 'us_state': 'California', 'state': 'California', 'plus_code': None, 'latitude': 38.108100799999995, 'longitude': -122.57362359999999, 'h3': '892830aa0a7ffff', 'time_zone': 'America/Los_Angeles', 'popular_times': None, 'site': 'https://www.novatochildrensdentistry.com/', 'phone': '+1 415-892-6969', 'type': 'Pediatric dentist', 'logo': 'https://lh5.googleusercontent.com/-D4cZIm5x0D8/AAAAAAAAAAI/AAAAAAAAAAA/gQz-I_Y3XaU/s44-p-k-no-ns-nd/photo.jpg', 'description': None, 'typical_time_spent': None, 'located_in': None, 'located_google_id': None, 'category': 'Pediatric dentist', 'subtypes': 'Pediatric dentist', 'posts': None, 'reviews_tags': None, 'rating': 4.9, 'reviews': 103, 'photos_count': 18, 'cid': '12688798494893144160', 'reviews_link': 'https://search.google.com/local/reviews?placeid=ChIJixa-83y7hYARYPidwgCrF7A&q=*&authuser=0&hl=en&gl=US', 'reviews_id': '-5757945578816407456', 'photo': 'https://lh5.googleusercontent.com/p/AF1QipOlOacQMPFv7fW-kk2tLb0rHk08c-TwLXYxbSY=w800-h500-k-no', 'street_view': 'https://lh5.googleusercontent.com/p/AF1QipOlOacQMPFv7fW-kk2tLb0rHk08c-TwLXYxbSY=w1600-h1000-k-no', 'working_hours_old_format': 'Monday:9AM-5PM|Tuesday:9AM-5PM|Wednesday:9AM-5PM|Thursday:9AM-5PM|Friday:10AM-4PM|Saturday:Closed|Sunday:Closed', 'working_hours': {'Monday': '9AM-5PM', 'Tuesday': '9AM-5PM', 'Wednesday': '9AM-5PM', 'Thursday': '9AM-5PM', 'Friday': '10AM-4PM', 'Saturday': 'Closed', 'Sunday': 'Closed'}, 'other_hours': [{'online_service_hours': {'Monday': '9\\u202fAM-5\\u202fPM', 'Tuesday': '9\\u202fAM-5\\u202fPM', 'Wednesday': '9\\u202fAM-5\\u202fPM', 'Thursday': '9\\u202fAM-5\\u202fPM', 'Friday': '10\\u202fAM-4\\u202fPM', 'Saturday': 'Closed', 'Sunday': 'Closed'}}], 'business_status': 'OPERATIONAL', 'about': {'From the business': {'Identifies as Latino-owned': True, 'Identifies as women-owned': True}, 'Service options': {'Language assistance': 'English, Spanish'}, 'Accessibility': {'Wheelchair accessible entrance': True, 'Wheelchair accessible parking lot': True, 'Wheelchair accessible restroom': True, 'Wheelchair accessible seating': True}, 'Amenities': {'Gender-neutral restroom': True, 'Restroom': True}, 'Crowd': {'LGBTQ+ friendly': True, 'Transgender safespace': True}, 'Planning': {'Appointment required': True, 'Accepts new patients': True, 'Appointments recommended': True}, 'Children': {'Nursing room': True}, 'Other': {'LGBTQ+ friendly': True, 'Identifies as women-owned': True, 'Identifies as Latino-owned': True}}, 'range': None, 'reviews_per_score': {'1': 2, '2': 0, '3': 0, '4': 3, '5': 98}, 'reservation_links': None, 'booking_appointment_link': 'https://www.novatochildrensdentistry.com/book-now', 'menu_link': None, 'order_links': ['https://www.novatochildrensdentistry.com/book-now'], 'owner_id': '106026274966666525631', 'verified': True, 'owner_title': \"Novato Children's Dentistry\", 'owner_link': 'https://www.google.com/maps/contrib/106026274966666525631', 'location_link': 'https://www.google.com/maps/place/Novato+Children%27s+Dentistry/@38.108100799999995,-122.57362359999999,14z/data=!4m8!1m2!2m1!1sNovato+Children%27s+Dentistry!3m4!1s0x8085bb7cf3be168b:0xb017ab00c29df860!8m2!3d38.108100799999995!4d-122.57362359999999', 'location_reviews_link': 'https://www.google.com/maps/place/Novato+Children%27s+Dentistry/@38.108100799999995,-122.57362359999999,13.99z/data=!4m16!1m7!3m6!1s0x8085bb7cf3be168b:0xb017ab00c29df860!2sNovato+Children%27s+Dentistry!8m2!3d38.108100799999995!4d-122.57362359999999!16s%2Fg%2F11ckvg1dmb!3m7!1s0x8085bb7cf3be168b:0xb017ab00c29df860!8m2!3d38.108100799999995!4d-122.57362359999999!9m1!1b1!16s%2Fg%2F11ckvg1dmb?entry=ttu'}, {'query': 'pediatric dentist novato ca usa', 'name': 'Poppy Kids Pediatric Dentistry', 'name_for_emails': 'Poppy Kids Pediatric Dentistry', 'place_id': 'ChIJLdUfAim9hYARqRFWA5LwoAI', 'google_id': '0x8085bd29021fd52d:0x2a0f092035611a9', 'full_address': '450 Ignacio Blvd, Novato, CA 94949', 'borough': None, 'street': '450 Ignacio Blvd', 'postal_code': '94949', 'area_service': False, 'country_code': 'US', 'country': 'United States of America', 'city': 'Novato', 'us_state': 'California', 'state': 'California', 'plus_code': None, 'latitude': 38.0676086, 'longitude': -122.5418691, 'h3': '892830b9997ffff', 'time_zone': 'America/Los_Angeles', 'popular_times': None, 'site': 'https://www.poppykidsdental.com/', 'phone': '+1 415-408-5775', 'type': 'Pediatric dentist', 'logo': 'https://lh4.googleusercontent.com/-MdzEZoEFqdo/AAAAAAAAAAI/AAAAAAAAAAA/QAAxNAQjrC0/s44-p-k-no-ns-nd/photo.jpg', 'description': None, 'typical_time_spent': None, 'located_in': None, 'located_google_id': None, 'category': 'Pediatric dentist', 'subtypes': 'Pediatric dentist', 'posts': None, 'reviews_tags': None, 'rating': 5.0, 'reviews': 99, 'photos_count': 35, 'cid': '189415694261424553', 'reviews_link': 'https://search.google.com/local/reviews?placeid=ChIJLdUfAim9hYARqRFWA5LwoAI&q=*&authuser=0&hl=en&gl=US', 'reviews_id': '189415694261424553', 'photo': 'https://lh5.googleusercontent.com/p/AF1QipNt244msy1SJqivnhFHWJ1b8TR18WMGbcWqTISn=w800-h500-k-no', 'street_view': 'https://lh5.googleusercontent.com/p/AF1QipNt244msy1SJqivnhFHWJ1b8TR18WMGbcWqTISn=w1600-h1000-k-no', 'working_hours_old_format': 'Monday:8:30AM-5PM|Tuesday:8:30AM-5PM|Wednesday:8:30AM-5PM|Thursday:8:30AM-5PM|Friday:Closed|Saturday:Closed|Sunday:Closed', 'working_hours': {'Monday': '8:30AM-5PM', 'Tuesday': '8:30AM-5PM', 'Wednesday': '8:30AM-5PM', 'Thursday': '8:30AM-5PM', 'Friday': 'Closed', 'Saturday': 'Closed', 'Sunday': 'Closed'}, 'other_hours': None, 'business_status': 'OPERATIONAL', 'about': {'From the business': {'Identifies as women-owned': True}, 'Service options': {'Language assistance': 'Spanish'}, 'Accessibility': {'Wheelchair accessible entrance': True, 'Wheelchair accessible parking lot': True, 'Wheelchair accessible restroom': True}, 'Amenities': {'Restroom': True}, 'Crowd': {'LGBTQ+ friendly': True, 'Transgender safespace': True}, 'Planning': {'Accepts new patients': True, 'Appointments recommended': True}, 'Other': {'LGBTQ+ friendly': True, 'Identifies as women-owned': True}}, 'range': None, 'reviews_per_score': {'1': 0, '2': 0, '3': 0, '4': 0, '5': 99}, 'reservation_links': None, 'booking_appointment_link': 'https://dental4.me/poppykids/1', 'menu_link': None, 'order_links': ['https://dental4.me/poppykids/1'], 'owner_id': '102276263890076199786', 'verified': True, 'owner_title': 'Poppy Kids Pediatric Dentistry', 'owner_link': 'https://www.google.com/maps/contrib/102276263890076199786', 'location_link': 'https://www.google.com/maps/place/Poppy+Kids+Pediatric+Dentistry/@38.0676086,-122.5418691,14z/data=!4m8!1m2!2m1!1sPoppy+Kids+Pediatric+Dentistry!3m4!1s0x8085bd29021fd52d:0x2a0f092035611a9!8m2!3d38.0676086!4d-122.5418691', 'location_reviews_link': 'https://www.google.com/maps/place/Poppy+Kids+Pediatric+Dentistry/@38.0676086,-122.5418691,13.99z/data=!4m16!1m7!3m6!1s0x8085bd29021fd52d:0x2a0f092035611a9!2sPoppy+Kids+Pediatric+Dentistry!8m2!3d38.0676086!4d-122.5418691!16s%2Fg%2F11ckvg1dmb!3m7!1s0x8085bd29021fd52d:0x2a0f092035611a9!8m2!3d38.0676086!4d-122.5418691!9m1!1b1!16s%2Fg%2F11ckvg1dmb?entry=ttu'}]]\n"
     ]
    }
   ],
   "source": [
    "print(results)"
   ]
  },
  {
   "cell_type": "code",
   "execution_count": 5,
   "metadata": {},
   "outputs": [
    {
     "data": {
      "text/plain": [
       "[{'query': 'pediatric dentist novato ca usa',\n",
       "  'name': 'Novato Pediatric Dentistry',\n",
       "  'name_for_emails': 'Novato Pediatric Dentistry',\n",
       "  'place_id': 'ChIJJ0DU9nu7hYAR12EPlrPOHjw',\n",
       "  'google_id': '0x8085bb7bf6d44027:0x3c1eceb3960f61d7',\n",
       "  'full_address': '7428 Redwood Blvd STE 101, Novato, CA 94945',\n",
       "  'borough': None,\n",
       "  'street': '7428 Redwood Blvd STE 101',\n",
       "  'postal_code': '94945',\n",
       "  'area_service': False,\n",
       "  'country_code': 'US',\n",
       "  'country': 'United States of America',\n",
       "  'city': 'Novato',\n",
       "  'us_state': 'California',\n",
       "  'state': 'California',\n",
       "  'plus_code': None,\n",
       "  'latitude': 38.110182,\n",
       "  'longitude': -122.568407,\n",
       "  'h3': '892830aa0abffff',\n",
       "  'time_zone': 'America/Los_Angeles',\n",
       "  'popular_times': None,\n",
       "  'site': 'http://www.novatopediatricdentistry.com/',\n",
       "  'phone': '+1 415-897-5566',\n",
       "  'type': 'Pediatric dentist',\n",
       "  'logo': 'https://lh6.googleusercontent.com/-UyVxl2iLBdY/AAAAAAAAAAI/AAAAAAAAAAA/tDAPvNjo9MY/s44-p-k-no-ns-nd/photo.jpg',\n",
       "  'description': None,\n",
       "  'typical_time_spent': None,\n",
       "  'located_in': None,\n",
       "  'located_google_id': None,\n",
       "  'category': 'Pediatric dentist',\n",
       "  'subtypes': 'Pediatric dentist, Dentist',\n",
       "  'posts': None,\n",
       "  'reviews_tags': None,\n",
       "  'rating': 4.9,\n",
       "  'reviews': 220,\n",
       "  'photos_count': 15,\n",
       "  'cid': '4332127162289054167',\n",
       "  'reviews_link': 'https://search.google.com/local/reviews?placeid=ChIJJ0DU9nu7hYAR12EPlrPOHjw&q=*&authuser=0&hl=en&gl=US',\n",
       "  'reviews_id': '4332127162289054167',\n",
       "  'photo': 'https://lh5.googleusercontent.com/p/AF1QipOEt4JS2NVFOitoZ1VVU129Ihc4IUvrjZBO3wxk=w800-h500-k-no',\n",
       "  'street_view': 'https://lh5.googleusercontent.com/p/AF1QipOEt4JS2NVFOitoZ1VVU129Ihc4IUvrjZBO3wxk=w1600-h1000-k-no',\n",
       "  'working_hours_old_format': 'Monday:9AM-6PM|Tuesday:8AM-5PM|Wednesday:8AM-5PM|Thursday:8AM-5PM|Friday:7AM-3PM|Saturday:Closed|Sunday:Closed',\n",
       "  'working_hours': {'Monday': '9AM-6PM',\n",
       "   'Tuesday': '8AM-5PM',\n",
       "   'Wednesday': '8AM-5PM',\n",
       "   'Thursday': '8AM-5PM',\n",
       "   'Friday': '7AM-3PM',\n",
       "   'Saturday': 'Closed',\n",
       "   'Sunday': 'Closed'},\n",
       "  'other_hours': None,\n",
       "  'business_status': 'OPERATIONAL',\n",
       "  'about': {'Accessibility': {'Wheelchair accessible entrance': True,\n",
       "    'Wheelchair accessible parking lot': True,\n",
       "    'Wheelchair accessible restroom': True},\n",
       "   'Amenities': {'Restroom': True},\n",
       "   'Planning': {'Accepts new patients': True,\n",
       "    'Appointments recommended': True}},\n",
       "  'range': None,\n",
       "  'reviews_per_score': {'1': 3, '2': 2, '3': 2, '4': 4, '5': 209},\n",
       "  'reservation_links': None,\n",
       "  'booking_appointment_link': None,\n",
       "  'menu_link': None,\n",
       "  'order_links': None,\n",
       "  'owner_id': '105305677253229107430',\n",
       "  'verified': True,\n",
       "  'owner_title': 'Novato Pediatric Dentistry',\n",
       "  'owner_link': 'https://www.google.com/maps/contrib/105305677253229107430',\n",
       "  'location_link': 'https://www.google.com/maps/place/Novato+Pediatric+Dentistry/@38.110182,-122.568407,14z/data=!4m8!1m2!2m1!1sNovato+Pediatric+Dentistry!3m4!1s0x8085bb7bf6d44027:0x3c1eceb3960f61d7!8m2!3d38.110182!4d-122.568407',\n",
       "  'location_reviews_link': 'https://www.google.com/maps/place/Novato+Pediatric+Dentistry/@38.110182,-122.568407,13.99z/data=!4m16!1m7!3m6!1s0x8085bb7bf6d44027:0x3c1eceb3960f61d7!2sNovato+Pediatric+Dentistry!8m2!3d38.110182!4d-122.568407!16s%2Fg%2F11ckvg1dmb!3m7!1s0x8085bb7bf6d44027:0x3c1eceb3960f61d7!8m2!3d38.110182!4d-122.568407!9m1!1b1!16s%2Fg%2F11ckvg1dmb?entry=ttu'},\n",
       " {'query': 'pediatric dentist novato ca usa',\n",
       "  'name': \"Novato Children's Dentistry\",\n",
       "  'name_for_emails': 'Novato Childrens Dentistry',\n",
       "  'place_id': 'ChIJixa-83y7hYARYPidwgCrF7A',\n",
       "  'google_id': '0x8085bb7cf3be168b:0xb017ab00c29df860',\n",
       "  'full_address': '1223 Grant Ave Ste A, Novato, CA 94945',\n",
       "  'borough': None,\n",
       "  'street': '1223 Grant Ave Ste A',\n",
       "  'postal_code': '94945',\n",
       "  'area_service': False,\n",
       "  'country_code': 'US',\n",
       "  'country': 'United States of America',\n",
       "  'city': 'Novato',\n",
       "  'us_state': 'California',\n",
       "  'state': 'California',\n",
       "  'plus_code': None,\n",
       "  'latitude': 38.108100799999995,\n",
       "  'longitude': -122.57362359999999,\n",
       "  'h3': '892830aa0a7ffff',\n",
       "  'time_zone': 'America/Los_Angeles',\n",
       "  'popular_times': None,\n",
       "  'site': 'https://www.novatochildrensdentistry.com/',\n",
       "  'phone': '+1 415-892-6969',\n",
       "  'type': 'Pediatric dentist',\n",
       "  'logo': 'https://lh5.googleusercontent.com/-D4cZIm5x0D8/AAAAAAAAAAI/AAAAAAAAAAA/gQz-I_Y3XaU/s44-p-k-no-ns-nd/photo.jpg',\n",
       "  'description': None,\n",
       "  'typical_time_spent': None,\n",
       "  'located_in': None,\n",
       "  'located_google_id': None,\n",
       "  'category': 'Pediatric dentist',\n",
       "  'subtypes': 'Pediatric dentist',\n",
       "  'posts': None,\n",
       "  'reviews_tags': None,\n",
       "  'rating': 4.9,\n",
       "  'reviews': 103,\n",
       "  'photos_count': 18,\n",
       "  'cid': '12688798494893144160',\n",
       "  'reviews_link': 'https://search.google.com/local/reviews?placeid=ChIJixa-83y7hYARYPidwgCrF7A&q=*&authuser=0&hl=en&gl=US',\n",
       "  'reviews_id': '-5757945578816407456',\n",
       "  'photo': 'https://lh5.googleusercontent.com/p/AF1QipOlOacQMPFv7fW-kk2tLb0rHk08c-TwLXYxbSY=w800-h500-k-no',\n",
       "  'street_view': 'https://lh5.googleusercontent.com/p/AF1QipOlOacQMPFv7fW-kk2tLb0rHk08c-TwLXYxbSY=w1600-h1000-k-no',\n",
       "  'working_hours_old_format': 'Monday:9AM-5PM|Tuesday:9AM-5PM|Wednesday:9AM-5PM|Thursday:9AM-5PM|Friday:10AM-4PM|Saturday:Closed|Sunday:Closed',\n",
       "  'working_hours': {'Monday': '9AM-5PM',\n",
       "   'Tuesday': '9AM-5PM',\n",
       "   'Wednesday': '9AM-5PM',\n",
       "   'Thursday': '9AM-5PM',\n",
       "   'Friday': '10AM-4PM',\n",
       "   'Saturday': 'Closed',\n",
       "   'Sunday': 'Closed'},\n",
       "  'other_hours': [{'online_service_hours': {'Monday': '9\\u202fAM-5\\u202fPM',\n",
       "     'Tuesday': '9\\u202fAM-5\\u202fPM',\n",
       "     'Wednesday': '9\\u202fAM-5\\u202fPM',\n",
       "     'Thursday': '9\\u202fAM-5\\u202fPM',\n",
       "     'Friday': '10\\u202fAM-4\\u202fPM',\n",
       "     'Saturday': 'Closed',\n",
       "     'Sunday': 'Closed'}}],\n",
       "  'business_status': 'OPERATIONAL',\n",
       "  'about': {'From the business': {'Identifies as Latino-owned': True,\n",
       "    'Identifies as women-owned': True},\n",
       "   'Service options': {'Language assistance': 'English, Spanish'},\n",
       "   'Accessibility': {'Wheelchair accessible entrance': True,\n",
       "    'Wheelchair accessible parking lot': True,\n",
       "    'Wheelchair accessible restroom': True,\n",
       "    'Wheelchair accessible seating': True},\n",
       "   'Amenities': {'Gender-neutral restroom': True, 'Restroom': True},\n",
       "   'Crowd': {'LGBTQ+ friendly': True, 'Transgender safespace': True},\n",
       "   'Planning': {'Appointment required': True,\n",
       "    'Accepts new patients': True,\n",
       "    'Appointments recommended': True},\n",
       "   'Children': {'Nursing room': True},\n",
       "   'Other': {'LGBTQ+ friendly': True,\n",
       "    'Identifies as women-owned': True,\n",
       "    'Identifies as Latino-owned': True}},\n",
       "  'range': None,\n",
       "  'reviews_per_score': {'1': 2, '2': 0, '3': 0, '4': 3, '5': 98},\n",
       "  'reservation_links': None,\n",
       "  'booking_appointment_link': 'https://www.novatochildrensdentistry.com/book-now',\n",
       "  'menu_link': None,\n",
       "  'order_links': ['https://www.novatochildrensdentistry.com/book-now'],\n",
       "  'owner_id': '106026274966666525631',\n",
       "  'verified': True,\n",
       "  'owner_title': \"Novato Children's Dentistry\",\n",
       "  'owner_link': 'https://www.google.com/maps/contrib/106026274966666525631',\n",
       "  'location_link': 'https://www.google.com/maps/place/Novato+Children%27s+Dentistry/@38.108100799999995,-122.57362359999999,14z/data=!4m8!1m2!2m1!1sNovato+Children%27s+Dentistry!3m4!1s0x8085bb7cf3be168b:0xb017ab00c29df860!8m2!3d38.108100799999995!4d-122.57362359999999',\n",
       "  'location_reviews_link': 'https://www.google.com/maps/place/Novato+Children%27s+Dentistry/@38.108100799999995,-122.57362359999999,13.99z/data=!4m16!1m7!3m6!1s0x8085bb7cf3be168b:0xb017ab00c29df860!2sNovato+Children%27s+Dentistry!8m2!3d38.108100799999995!4d-122.57362359999999!16s%2Fg%2F11ckvg1dmb!3m7!1s0x8085bb7cf3be168b:0xb017ab00c29df860!8m2!3d38.108100799999995!4d-122.57362359999999!9m1!1b1!16s%2Fg%2F11ckvg1dmb?entry=ttu'},\n",
       " {'query': 'pediatric dentist novato ca usa',\n",
       "  'name': 'Poppy Kids Pediatric Dentistry',\n",
       "  'name_for_emails': 'Poppy Kids Pediatric Dentistry',\n",
       "  'place_id': 'ChIJLdUfAim9hYARqRFWA5LwoAI',\n",
       "  'google_id': '0x8085bd29021fd52d:0x2a0f092035611a9',\n",
       "  'full_address': '450 Ignacio Blvd, Novato, CA 94949',\n",
       "  'borough': None,\n",
       "  'street': '450 Ignacio Blvd',\n",
       "  'postal_code': '94949',\n",
       "  'area_service': False,\n",
       "  'country_code': 'US',\n",
       "  'country': 'United States of America',\n",
       "  'city': 'Novato',\n",
       "  'us_state': 'California',\n",
       "  'state': 'California',\n",
       "  'plus_code': None,\n",
       "  'latitude': 38.0676086,\n",
       "  'longitude': -122.5418691,\n",
       "  'h3': '892830b9997ffff',\n",
       "  'time_zone': 'America/Los_Angeles',\n",
       "  'popular_times': None,\n",
       "  'site': 'https://www.poppykidsdental.com/',\n",
       "  'phone': '+1 415-408-5775',\n",
       "  'type': 'Pediatric dentist',\n",
       "  'logo': 'https://lh4.googleusercontent.com/-MdzEZoEFqdo/AAAAAAAAAAI/AAAAAAAAAAA/QAAxNAQjrC0/s44-p-k-no-ns-nd/photo.jpg',\n",
       "  'description': None,\n",
       "  'typical_time_spent': None,\n",
       "  'located_in': None,\n",
       "  'located_google_id': None,\n",
       "  'category': 'Pediatric dentist',\n",
       "  'subtypes': 'Pediatric dentist',\n",
       "  'posts': None,\n",
       "  'reviews_tags': None,\n",
       "  'rating': 5.0,\n",
       "  'reviews': 99,\n",
       "  'photos_count': 35,\n",
       "  'cid': '189415694261424553',\n",
       "  'reviews_link': 'https://search.google.com/local/reviews?placeid=ChIJLdUfAim9hYARqRFWA5LwoAI&q=*&authuser=0&hl=en&gl=US',\n",
       "  'reviews_id': '189415694261424553',\n",
       "  'photo': 'https://lh5.googleusercontent.com/p/AF1QipNt244msy1SJqivnhFHWJ1b8TR18WMGbcWqTISn=w800-h500-k-no',\n",
       "  'street_view': 'https://lh5.googleusercontent.com/p/AF1QipNt244msy1SJqivnhFHWJ1b8TR18WMGbcWqTISn=w1600-h1000-k-no',\n",
       "  'working_hours_old_format': 'Monday:8:30AM-5PM|Tuesday:8:30AM-5PM|Wednesday:8:30AM-5PM|Thursday:8:30AM-5PM|Friday:Closed|Saturday:Closed|Sunday:Closed',\n",
       "  'working_hours': {'Monday': '8:30AM-5PM',\n",
       "   'Tuesday': '8:30AM-5PM',\n",
       "   'Wednesday': '8:30AM-5PM',\n",
       "   'Thursday': '8:30AM-5PM',\n",
       "   'Friday': 'Closed',\n",
       "   'Saturday': 'Closed',\n",
       "   'Sunday': 'Closed'},\n",
       "  'other_hours': None,\n",
       "  'business_status': 'OPERATIONAL',\n",
       "  'about': {'From the business': {'Identifies as women-owned': True},\n",
       "   'Service options': {'Language assistance': 'Spanish'},\n",
       "   'Accessibility': {'Wheelchair accessible entrance': True,\n",
       "    'Wheelchair accessible parking lot': True,\n",
       "    'Wheelchair accessible restroom': True},\n",
       "   'Amenities': {'Restroom': True},\n",
       "   'Crowd': {'LGBTQ+ friendly': True, 'Transgender safespace': True},\n",
       "   'Planning': {'Accepts new patients': True,\n",
       "    'Appointments recommended': True},\n",
       "   'Other': {'LGBTQ+ friendly': True, 'Identifies as women-owned': True}},\n",
       "  'range': None,\n",
       "  'reviews_per_score': {'1': 0, '2': 0, '3': 0, '4': 0, '5': 99},\n",
       "  'reservation_links': None,\n",
       "  'booking_appointment_link': 'https://dental4.me/poppykids/1',\n",
       "  'menu_link': None,\n",
       "  'order_links': ['https://dental4.me/poppykids/1'],\n",
       "  'owner_id': '102276263890076199786',\n",
       "  'verified': True,\n",
       "  'owner_title': 'Poppy Kids Pediatric Dentistry',\n",
       "  'owner_link': 'https://www.google.com/maps/contrib/102276263890076199786',\n",
       "  'location_link': 'https://www.google.com/maps/place/Poppy+Kids+Pediatric+Dentistry/@38.0676086,-122.5418691,14z/data=!4m8!1m2!2m1!1sPoppy+Kids+Pediatric+Dentistry!3m4!1s0x8085bd29021fd52d:0x2a0f092035611a9!8m2!3d38.0676086!4d-122.5418691',\n",
       "  'location_reviews_link': 'https://www.google.com/maps/place/Poppy+Kids+Pediatric+Dentistry/@38.0676086,-122.5418691,13.99z/data=!4m16!1m7!3m6!1s0x8085bd29021fd52d:0x2a0f092035611a9!2sPoppy+Kids+Pediatric+Dentistry!8m2!3d38.0676086!4d-122.5418691!16s%2Fg%2F11ckvg1dmb!3m7!1s0x8085bd29021fd52d:0x2a0f092035611a9!8m2!3d38.0676086!4d-122.5418691!9m1!1b1!16s%2Fg%2F11ckvg1dmb?entry=ttu'}]"
      ]
     },
     "execution_count": 5,
     "metadata": {},
     "output_type": "execute_result"
    }
   ],
   "source": [
    "results[0]"
   ]
  },
  {
   "cell_type": "markdown",
   "metadata": {},
   "source": [
    "## How to get the name and placeid from the returned list?\n",
    "The data you provided is a list within a list, containing dictionaries. To access the 'name' and 'place_id' of each dictionary, you can use a nested loop. "
   ]
  },
  {
   "cell_type": "code",
   "execution_count": 11,
   "metadata": {},
   "outputs": [
    {
     "name": "stdout",
     "output_type": "stream",
     "text": [
      "Name: Novato Children's Dentistry, Place ID: ChIJixa-83y7hYARYPidwgCrF7A\n",
      "Name: Novato Pediatric Dentistry, Place ID: ChIJJ0DU9nu7hYAR12EPlrPOHjw\n",
      "Name: Mr. Benjamin Robinson, Place ID: ChIJXWmY8Hu7hYARtTzZM2vEXho\n"
     ]
    }
   ],
   "source": [
    "for sublist in results:\n",
    "    for item in sublist:\n",
    "        name = item['name']\n",
    "        place_id = item['place_id']\n",
    "        print(f\"Name: {name}, Place ID: {place_id}\")"
   ]
  },
  {
   "cell_type": "code",
   "execution_count": 18,
   "metadata": {},
   "outputs": [],
   "source": [
    "# Get data of the specific place by id - Poppy\n",
    "result = client.google_maps_search('ChIJLdUfAim9hYARqRFWA5LwoAI', language='en')"
   ]
  },
  {
   "cell_type": "code",
   "execution_count": null,
   "metadata": {},
   "outputs": [],
   "source": [
    "result[0]"
   ]
  },
  {
   "cell_type": "markdown",
   "metadata": {},
   "source": [
    "# Scrape Google Maps Reviews\n"
   ]
  },
  {
   "cell_type": "code",
   "execution_count": 6,
   "metadata": {},
   "outputs": [],
   "source": [
    "# Get reviews of the specific place by id\n",
    "results = client.google_maps_reviews('ChIJLdUfAim9hYARqRFWA5LwoAI', reviews_limit=5, language='en')"
   ]
  },
  {
   "cell_type": "code",
   "execution_count": null,
   "metadata": {},
   "outputs": [],
   "source": [
    "print(results)"
   ]
  },
  {
   "cell_type": "code",
   "execution_count": null,
   "metadata": {},
   "outputs": [],
   "source": [
    "import pandas as pd\n",
    "\n",
    "# Specify the place_id\n",
    "place_id = 'ChIJLdUfAim9hYARqRFWA5LwoAI' #poppy\n",
    "\n",
    "# Specify the number of reviews to fetch\n",
    "num_reviews = 80\n",
    "\n",
    "# Fetch the specified number of reviews for the place\n",
    "reviews = client.google_maps_reviews(place_id, reviews_limit=num_reviews)\n",
    "\n",
    "# Convert the reviews to a DataFrame\n",
    "df = pd.DataFrame(reviews[0]['reviews_data'])\n",
    "\n",
    "# Export the DataFrame to a CSV file\n",
    "df.to_csv('poppy_reviews_all.csv', index=False)"
   ]
  },
  {
   "cell_type": "markdown",
   "metadata": {},
   "source": [
    "### Use the addresss to pull the review without the place id. - this will be a more general function"
   ]
  },
  {
   "cell_type": "code",
   "execution_count": null,
   "metadata": {},
   "outputs": [],
   "source": [
    "# Get reviews for places found by search query\n",
    "# limit returns max number of places - should be set to 1\n",
    "reviews = client.google_maps_reviews('Poppy Kids pediatric dentistry Novato CA usa', reviews_limit=7, limit=1, language='en')\n",
    "print(reviews)"
   ]
  },
  {
   "cell_type": "code",
   "execution_count": null,
   "metadata": {},
   "outputs": [],
   "source": [
    "import json\n",
    "\n",
    "# Assuming 'reviews' is your JSON data\n",
    "# Python's built-in json module to prettify the JSON output directly\n",
    "print(json.dumps(reviews, indent=4))"
   ]
  },
  {
   "cell_type": "markdown",
   "metadata": {},
   "source": [
    "# Alles Zusammen!!!\n",
    "### The question is do I need to convert the data to a data frame - I think not. It already returns JSON which should work well with assistants API. "
   ]
  },
  {
   "cell_type": "code",
   "execution_count": null,
   "metadata": {},
   "outputs": [],
   "source": [
    "from getpass import getpass\n",
    "import os\n",
    "from outscraper import ApiClient\n",
    "import json\n",
    "\n",
    "# Prompt the user to enter the API key\n",
    "os.environ[\"OUTSCRAPER_API_KEY\"] = getpass(\"Outscraper API Key:\")\n",
    "\n",
    "# Use the API key from the environment variable\n",
    "client = ApiClient(api_key=os.environ[\"OUTSCRAPER_API_KEY\"])"
   ]
  },
  {
   "cell_type": "code",
   "execution_count": 25,
   "metadata": {},
   "outputs": [],
   "source": [
    "reviews = client.google_maps_reviews('Poppy Kids pediatric dentistry Novato CA usa', reviews_limit=50, limit=1, language='en')\n",
    "\n",
    "# Write the JSON data to a file\n",
    "with open('poppy_reviews_fifty.json', 'w') as f:\n",
    "    json.dump(reviews, f)"
   ]
  },
  {
   "cell_type": "markdown",
   "metadata": {},
   "source": [
    "### Once I have the json document saved, I open it using the JSON formatter (set to default - also have prettify) and right clickk to format to see the details. "
   ]
  },
  {
   "cell_type": "code",
   "execution_count": null,
   "metadata": {},
   "outputs": [],
   "source": [
    "# Get reviews for places found by search query (Use the proper business name to fetch the correct results)\n",
    "reviews = client.google_maps_reviews('Poppy Kids pediatric dentistry Novato CA usa', reviews_limit=7, limit=1, language='en')\n",
    "\n",
    "\n",
    "# Convert the reviews to a DataFrame\n",
    "df = pd.DataFrame(reviews[0]['reviews_data'])\n",
    "\n",
    "# Export the DataFrame to a CSV file\n",
    "df.to_csv('poppy_reviews_all.csv', index=False)"
   ]
  },
  {
   "cell_type": "markdown",
   "metadata": {},
   "source": [
    "# Other useful functions"
   ]
  },
  {
   "cell_type": "code",
   "execution_count": null,
   "metadata": {},
   "outputs": [],
   "source": [
    "# Search with many queries (batching)\n",
    "results = client.google_maps_search([\n",
    "    'restaurants brooklyn usa',\n",
    "    'bars brooklyn usa',\n",
    "], language='en')\n",
    "\n",
    "# Get reviews for places found by search query\n",
    "results = client.google_maps_reviews('Memphis Seoul brooklyn usa', reviews_limit=20, limit=500, language='en')\n",
    "\n",
    "# Get only new reviews during last 24 hours (Jay - This is what I need to create a piline for taking in the reviews every day) - This can easily run in Snowflake and get data - python file. \n",
    "# This is a good way to get the reviews every day\n",
    "from datetime import datetime, timedelta\n",
    "yesterday_timestamp = int((datetime.now() - timedelta(1)).timestamp())\n",
    "\n",
    "results = client.google_maps_reviews(\n",
    "    'ChIJrc9T9fpYwokRdvjYRHT8nI4', sort='newest', cutoff=yesterday_timestamp, reviews_limit=100, language='en')\n",
    "\n",
    "\n",
    "#### Get Business Photos:\n",
    "results = client.google_maps_photos(\n",
    "    'Trump Tower, NY, USA', photosLimit=20, language='en')\n",
    "\n",
    "results = client.google_maps_directions(['29.696596, 76.994928    30.7159662444353, 76.8053887016268', '29.696596, 76.994928    30.723065, 76.770169'])"
   ]
  }
 ],
 "metadata": {
  "kernelspec": {
   "display_name": "reviews_env",
   "language": "python",
   "name": "reviews_env"
  },
  "language_info": {
   "codemirror_mode": {
    "name": "ipython",
    "version": 3
   },
   "file_extension": ".py",
   "mimetype": "text/x-python",
   "name": "python",
   "nbconvert_exporter": "python",
   "pygments_lexer": "ipython3",
   "version": "3.11.6"
  }
 },
 "nbformat": 4,
 "nbformat_minor": 2
}
