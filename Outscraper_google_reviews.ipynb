{
 "cells": [
  {
   "cell_type": "markdown",
   "metadata": {},
   "source": [
    "# Installation"
   ]
  },
  {
   "cell_type": "code",
   "execution_count": 21,
   "metadata": {},
   "outputs": [
    {
     "name": "stdout",
     "output_type": "stream",
     "text": [
      "Requirement already satisfied: outscraper in /Users/acrobat/Documents/GitHub/AI-Engineering-Cohort-2/bootcamp_env/lib/python3.11/site-packages (5.1.0)\n",
      "Collecting pandas\n",
      "  Obtaining dependency information for pandas from https://files.pythonhosted.org/packages/16/c6/75231fd47afd6b3f89011e7077f1a3958441264aca7ae9ff596e3276a5d0/pandas-2.2.2-cp311-cp311-macosx_11_0_arm64.whl.metadata\n",
      "  Downloading pandas-2.2.2-cp311-cp311-macosx_11_0_arm64.whl.metadata (19 kB)\n",
      "Requirement already satisfied: requests in /Users/acrobat/Documents/GitHub/AI-Engineering-Cohort-2/bootcamp_env/lib/python3.11/site-packages (from outscraper) (2.31.0)\n",
      "Collecting numpy>=1.23.2 (from pandas)\n",
      "  Obtaining dependency information for numpy>=1.23.2 from https://files.pythonhosted.org/packages/1a/2e/151484f49fd03944c4a3ad9c418ed193cfd02724e138ac8a9505d056c582/numpy-1.26.4-cp311-cp311-macosx_11_0_arm64.whl.metadata\n",
      "  Using cached numpy-1.26.4-cp311-cp311-macosx_11_0_arm64.whl.metadata (114 kB)\n",
      "Requirement already satisfied: python-dateutil>=2.8.2 in /Users/acrobat/Documents/GitHub/AI-Engineering-Cohort-2/bootcamp_env/lib/python3.11/site-packages (from pandas) (2.9.0.post0)\n",
      "Collecting pytz>=2020.1 (from pandas)\n",
      "  Obtaining dependency information for pytz>=2020.1 from https://files.pythonhosted.org/packages/9c/3d/a121f284241f08268b21359bd425f7d4825cffc5ac5cd0e1b3d82ffd2b10/pytz-2024.1-py2.py3-none-any.whl.metadata\n",
      "  Using cached pytz-2024.1-py2.py3-none-any.whl.metadata (22 kB)\n",
      "Collecting tzdata>=2022.7 (from pandas)\n",
      "  Obtaining dependency information for tzdata>=2022.7 from https://files.pythonhosted.org/packages/65/58/f9c9e6be752e9fcb8b6a0ee9fb87e6e7a1f6bcab2cdc73f02bb7ba91ada0/tzdata-2024.1-py2.py3-none-any.whl.metadata\n",
      "  Using cached tzdata-2024.1-py2.py3-none-any.whl.metadata (1.4 kB)\n",
      "Requirement already satisfied: six>=1.5 in /Users/acrobat/Documents/GitHub/AI-Engineering-Cohort-2/bootcamp_env/lib/python3.11/site-packages (from python-dateutil>=2.8.2->pandas) (1.16.0)\n",
      "Requirement already satisfied: charset-normalizer<4,>=2 in /Users/acrobat/Documents/GitHub/AI-Engineering-Cohort-2/bootcamp_env/lib/python3.11/site-packages (from requests->outscraper) (3.3.2)\n",
      "Requirement already satisfied: idna<4,>=2.5 in /Users/acrobat/Documents/GitHub/AI-Engineering-Cohort-2/bootcamp_env/lib/python3.11/site-packages (from requests->outscraper) (3.7)\n",
      "Requirement already satisfied: urllib3<3,>=1.21.1 in /Users/acrobat/Documents/GitHub/AI-Engineering-Cohort-2/bootcamp_env/lib/python3.11/site-packages (from requests->outscraper) (2.2.1)\n",
      "Requirement already satisfied: certifi>=2017.4.17 in /Users/acrobat/Documents/GitHub/AI-Engineering-Cohort-2/bootcamp_env/lib/python3.11/site-packages (from requests->outscraper) (2024.2.2)\n",
      "Downloading pandas-2.2.2-cp311-cp311-macosx_11_0_arm64.whl (11.3 MB)\n",
      "\u001b[2K   \u001b[90m━━━━━━━━━━━━━━━━━━━━━━━━━━━━━━━━━━━━━━━━\u001b[0m \u001b[32m11.3/11.3 MB\u001b[0m \u001b[31m55.3 MB/s\u001b[0m eta \u001b[36m0:00:00\u001b[0ma \u001b[36m0:00:01\u001b[0m\n",
      "\u001b[?25hUsing cached numpy-1.26.4-cp311-cp311-macosx_11_0_arm64.whl (14.0 MB)\n",
      "Using cached pytz-2024.1-py2.py3-none-any.whl (505 kB)\n",
      "Using cached tzdata-2024.1-py2.py3-none-any.whl (345 kB)\n",
      "Installing collected packages: pytz, tzdata, numpy, pandas\n",
      "Successfully installed numpy-1.26.4 pandas-2.2.2 pytz-2024.1 tzdata-2024.1\n",
      "\n",
      "\u001b[1m[\u001b[0m\u001b[34;49mnotice\u001b[0m\u001b[1;39;49m]\u001b[0m\u001b[39;49m A new release of pip is available: \u001b[0m\u001b[31;49m23.2.1\u001b[0m\u001b[39;49m -> \u001b[0m\u001b[32;49m24.0\u001b[0m\n",
      "\u001b[1m[\u001b[0m\u001b[34;49mnotice\u001b[0m\u001b[1;39;49m]\u001b[0m\u001b[39;49m To update, run: \u001b[0m\u001b[32;49mpip install --upgrade pip\u001b[0m\n"
     ]
    }
   ],
   "source": [
    "! pip install outscraper pandas"
   ]
  },
  {
   "cell_type": "markdown",
   "metadata": {},
   "source": [
    "# Initialization"
   ]
  },
  {
   "cell_type": "code",
   "execution_count": 4,
   "metadata": {},
   "outputs": [],
   "source": [
    "from getpass import getpass\n",
    "import os\n",
    "from outscraper import ApiClient\n",
    "\n",
    "# Prompt the user to enter the API key\n",
    "os.environ[\"OUTSCRAPER_API_KEY\"] = getpass(\"Outscraper API Key:\")\n",
    "\n",
    "# Use the API key from the environment variable\n",
    "client = ApiClient(api_key=os.environ[\"OUTSCRAPER_API_KEY\"])"
   ]
  },
  {
   "cell_type": "markdown",
   "metadata": {},
   "source": [
    "# Scrape Google Search"
   ]
  },
  {
   "cell_type": "code",
   "execution_count": null,
   "metadata": {},
   "outputs": [],
   "source": [
    "# Googel Search\n",
    "results = client.google_search('bitcoin')\n",
    "\n",
    "# Googel Search News\n",
    "results = client.google_search_news('election', language='en')"
   ]
  },
  {
   "cell_type": "markdown",
   "metadata": {},
   "source": [
    "# Scrape Google Maps (Places)\n"
   ]
  },
  {
   "cell_type": "code",
   "execution_count": 5,
   "metadata": {},
   "outputs": [],
   "source": [
    "# Search for businesses in specific locations:\n",
    "results = client.google_maps_search('pediatric dentist novato ca usa', limit=3, language='en')"
   ]
  },
  {
   "cell_type": "code",
   "execution_count": null,
   "metadata": {},
   "outputs": [],
   "source": [
    "print(results)"
   ]
  },
  {
   "cell_type": "code",
   "execution_count": null,
   "metadata": {},
   "outputs": [],
   "source": [
    "results[0]"
   ]
  },
  {
   "cell_type": "markdown",
   "metadata": {},
   "source": [
    "## How to get the name and placeid from the returned list?\n",
    "The data you provided is a list within a list, containing dictionaries. To access the 'name' and 'place_id' of each dictionary, you can use a nested loop. "
   ]
  },
  {
   "cell_type": "code",
   "execution_count": 11,
   "metadata": {},
   "outputs": [
    {
     "name": "stdout",
     "output_type": "stream",
     "text": [
      "Name: Novato Children's Dentistry, Place ID: ChIJixa-83y7hYARYPidwgCrF7A\n",
      "Name: Novato Pediatric Dentistry, Place ID: ChIJJ0DU9nu7hYAR12EPlrPOHjw\n",
      "Name: Mr. Benjamin Robinson, Place ID: ChIJXWmY8Hu7hYARtTzZM2vEXho\n"
     ]
    }
   ],
   "source": [
    "for sublist in results:\n",
    "    for item in sublist:\n",
    "        name = item['name']\n",
    "        place_id = item['place_id']\n",
    "        print(f\"Name: {name}, Place ID: {place_id}\")"
   ]
  },
  {
   "cell_type": "code",
   "execution_count": 18,
   "metadata": {},
   "outputs": [],
   "source": [
    "# Get data of the specific place by id - Poppy\n",
    "result = client.google_maps_search('ChIJLdUfAim9hYARqRFWA5LwoAI', language='en')"
   ]
  },
  {
   "cell_type": "code",
   "execution_count": null,
   "metadata": {},
   "outputs": [],
   "source": [
    "result[0]"
   ]
  },
  {
   "cell_type": "markdown",
   "metadata": {},
   "source": [
    "# Scrape Google Maps Reviews\n"
   ]
  },
  {
   "cell_type": "code",
   "execution_count": null,
   "metadata": {},
   "outputs": [],
   "source": [
    "# Get reviews of the specific place by id\n",
    "results = client.google_maps_reviews('ChIJLdUfAim9hYARqRFWA5LwoAI', reviews_limit=20, language='en')"
   ]
  },
  {
   "cell_type": "code",
   "execution_count": null,
   "metadata": {},
   "outputs": [],
   "source": [
    "import pandas as pd\n",
    "\n",
    "# Specify the place_id\n",
    "place_id = 'ChIJLdUfAim9hYARqRFWA5LwoAI' #poppy\n",
    "\n",
    "# Specify the number of reviews to fetch\n",
    "num_reviews = 80\n",
    "\n",
    "# Fetch the specified number of reviews for the place\n",
    "reviews = client.google_maps_reviews(place_id, reviews_limit=num_reviews)\n",
    "\n",
    "# Convert the reviews to a DataFrame\n",
    "df = pd.DataFrame(reviews[0]['reviews_data'])\n",
    "\n",
    "# Export the DataFrame to a CSV file\n",
    "df.to_csv('poppy_reviews_all.csv', index=False)"
   ]
  },
  {
   "cell_type": "markdown",
   "metadata": {},
   "source": [
    "### Use the addresss to pull the review without the place id. - this will be a more general function"
   ]
  },
  {
   "cell_type": "code",
   "execution_count": null,
   "metadata": {},
   "outputs": [],
   "source": [
    "# Get reviews for places found by search query\n",
    "# limit returns max number of places - should be set to 1\n",
    "reviews = client.google_maps_reviews('Poppy Kids pediatric dentistry Novato CA usa', reviews_limit=7, limit=1, language='en')\n",
    "print(reviews)"
   ]
  },
  {
   "cell_type": "code",
   "execution_count": null,
   "metadata": {},
   "outputs": [],
   "source": [
    "import json\n",
    "\n",
    "# Assuming 'reviews' is your JSON data\n",
    "# Python's built-in json module to prettify the JSON output directly\n",
    "print(json.dumps(reviews, indent=4))"
   ]
  },
  {
   "cell_type": "markdown",
   "metadata": {},
   "source": [
    "# Alles Zusammen!!!\n",
    "### The question is do I need to convert the data to a data frame - I think not. It already returns JSON which should work well with assistants API. "
   ]
  },
  {
   "cell_type": "code",
   "execution_count": null,
   "metadata": {},
   "outputs": [],
   "source": [
    "from getpass import getpass\n",
    "import os\n",
    "from outscraper import ApiClient\n",
    "import json\n",
    "\n",
    "# Prompt the user to enter the API key\n",
    "os.environ[\"OUTSCRAPER_API_KEY\"] = getpass(\"Outscraper API Key:\")\n",
    "\n",
    "# Use the API key from the environment variable\n",
    "client = ApiClient(api_key=os.environ[\"OUTSCRAPER_API_KEY\"])"
   ]
  },
  {
   "cell_type": "code",
   "execution_count": 25,
   "metadata": {},
   "outputs": [],
   "source": [
    "reviews = client.google_maps_reviews('Poppy Kids pediatric dentistry Novato CA usa', reviews_limit=50, limit=1, language='en')\n",
    "\n",
    "# Write the JSON data to a file\n",
    "with open('poppy_reviews_fifty.json', 'w') as f:\n",
    "    json.dump(reviews, f)"
   ]
  },
  {
   "cell_type": "markdown",
   "metadata": {},
   "source": [
    "### Once I have the json document saved, I open it using the JSON formatter (set to default - also have prettify) and right clickk to format to see the details. "
   ]
  },
  {
   "cell_type": "code",
   "execution_count": null,
   "metadata": {},
   "outputs": [],
   "source": [
    "# Get reviews for places found by search query (Use the proper business name to fetch the correct results)\n",
    "reviews = client.google_maps_reviews('Poppy Kids pediatric dentistry Novato CA usa', reviews_limit=7, limit=1, language='en')\n",
    "\n",
    "\n",
    "# Convert the reviews to a DataFrame\n",
    "df = pd.DataFrame(reviews[0]['reviews_data'])\n",
    "\n",
    "# Export the DataFrame to a CSV file\n",
    "df.to_csv('poppy_reviews_all.csv', index=False)"
   ]
  },
  {
   "cell_type": "markdown",
   "metadata": {},
   "source": [
    "# Other useful functions"
   ]
  },
  {
   "cell_type": "code",
   "execution_count": null,
   "metadata": {},
   "outputs": [],
   "source": [
    "# Search with many queries (batching)\n",
    "results = client.google_maps_search([\n",
    "    'restaurants brooklyn usa',\n",
    "    'bars brooklyn usa',\n",
    "], language='en')\n",
    "\n",
    "# Get reviews for places found by search query\n",
    "results = client.google_maps_reviews('Memphis Seoul brooklyn usa', reviews_limit=20, limit=500, language='en')\n",
    "\n",
    "# Get only new reviews during last 24 hours (Jay - This is what I need to create a piline for taking in the reviews every day) - This can easily run in Snowflake and get data - python file. \n",
    "# This is a good way to get the reviews every day\n",
    "from datetime import datetime, timedelta\n",
    "yesterday_timestamp = int((datetime.now() - timedelta(1)).timestamp())\n",
    "\n",
    "results = client.google_maps_reviews(\n",
    "    'ChIJrc9T9fpYwokRdvjYRHT8nI4', sort='newest', cutoff=yesterday_timestamp, reviews_limit=100, language='en')\n",
    "\n",
    "\n",
    "#### Get Business Photos:\n",
    "results = client.google_maps_photos(\n",
    "    'Trump Tower, NY, USA', photosLimit=20, language='en')\n",
    "\n",
    "results = client.google_maps_directions(['29.696596, 76.994928    30.7159662444353, 76.8053887016268', '29.696596, 76.994928    30.723065, 76.770169'])"
   ]
  }
 ],
 "metadata": {
  "kernelspec": {
   "display_name": "bootcamp_env",
   "language": "python",
   "name": "python3"
  },
  "language_info": {
   "codemirror_mode": {
    "name": "ipython",
    "version": 3
   },
   "file_extension": ".py",
   "mimetype": "text/x-python",
   "name": "python",
   "nbconvert_exporter": "python",
   "pygments_lexer": "ipython3",
   "version": "3.11.6"
  }
 },
 "nbformat": 4,
 "nbformat_minor": 2
}
